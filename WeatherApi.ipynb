{
 "cells": [
  {
   "cell_type": "code",
   "execution_count": 26,
   "metadata": {
    "collapsed": true,
    "pycharm": {
     "name": "#%%\n",
     "is_executing": false
    }
   },
   "outputs": [
    {
     "name": "stdout",
     "text": [
      "[[{'date': '2019-09-01', 'astronomy': [{'sunrise': '05:45 AM', 'sunset': '07:27 PM', 'moonrise': '08:12 AM', 'moonset': '08:47 PM', 'moon_phase': 'Waxing Crescent', 'moon_illumination': '9'}], 'maxtempC': '15', 'maxtempF': '58', 'mintempC': '10', 'mintempF': '50', 'avgtempC': '13', 'avgtempF': '56', 'totalSnow_cm': '0.0', 'sunHour': '11.0', 'uvIndex': '1', 'hourly': [{'time': '0', 'tempC': '11', 'tempF': '51', 'windspeedMiles': '12', 'windspeedKmph': '19', 'winddirDegree': '295', 'winddir16Point': 'WNW', 'weatherCode': '176', 'weatherIconUrl': [{'value': 'http://cdn.worldweatheronline.net/images/wsymbols01_png_64/wsymbol_0025_light_rain_showers_night.png'}], 'weatherDesc': [{'value': 'Patchy rain possible'}], 'precipMM': '0.2', 'precipInches': '0.0', 'humidity': '83', 'visibility': '10', 'visibilityMiles': '6', 'pressure': '1016', 'pressureInches': '30', 'cloudcover': '64', 'HeatIndexC': '11', 'HeatIndexF': '51', 'DewPointC': '8', 'DewPointF': '46', 'WindChillC': '8', 'WindChillF': '47', 'WindGustMiles': '21', 'WindGustKmph': '33', 'FeelsLikeC': '8', 'FeelsLikeF': '47', 'uvIndex': '1'}, {'time': '300', 'tempC': '10', 'tempF': '51', 'windspeedMiles': '12', 'windspeedKmph': '20', 'winddirDegree': '292', 'winddir16Point': 'WNW', 'weatherCode': '176', 'weatherIconUrl': [{'value': 'http://cdn.worldweatheronline.net/images/wsymbols01_png_64/wsymbol_0025_light_rain_showers_night.png'}], 'weatherDesc': [{'value': 'Patchy rain possible'}], 'precipMM': '0.1', 'precipInches': '0.0', 'humidity': '82', 'visibility': '10', 'visibilityMiles': '6', 'pressure': '1018', 'pressureInches': '31', 'cloudcover': '70', 'HeatIndexC': '10', 'HeatIndexF': '51', 'DewPointC': '7', 'DewPointF': '45', 'WindChillC': '8', 'WindChillF': '46', 'WindGustMiles': '22', 'WindGustKmph': '36', 'FeelsLikeC': '8', 'FeelsLikeF': '46', 'uvIndex': '1'}, {'time': '600', 'tempC': '10', 'tempF': '50', 'windspeedMiles': '11', 'windspeedKmph': '18', 'winddirDegree': '291', 'winddir16Point': 'WNW', 'weatherCode': '176', 'weatherIconUrl': [{'value': 'http://cdn.worldweatheronline.net/images/wsymbols01_png_64/wsymbol_0025_light_rain_showers_night.png'}], 'weatherDesc': [{'value': 'Patchy rain possible'}], 'precipMM': '0.1', 'precipInches': '0.0', 'humidity': '80', 'visibility': '10', 'visibilityMiles': '6', 'pressure': '1019', 'pressureInches': '31', 'cloudcover': '72', 'HeatIndexC': '10', 'HeatIndexF': '50', 'DewPointC': '7', 'DewPointF': '44', 'WindChillC': '8', 'WindChillF': '46', 'WindGustMiles': '21', 'WindGustKmph': '33', 'FeelsLikeC': '8', 'FeelsLikeF': '46', 'uvIndex': '1'}, {'time': '900', 'tempC': '13', 'tempF': '56', 'windspeedMiles': '13', 'windspeedKmph': '20', 'winddirDegree': '280', 'winddir16Point': 'W', 'weatherCode': '116', 'weatherIconUrl': [{'value': 'http://cdn.worldweatheronline.net/images/wsymbols01_png_64/wsymbol_0002_sunny_intervals.png'}], 'weatherDesc': [{'value': 'Partly cloudy'}], 'precipMM': '0.0', 'precipInches': '0.0', 'humidity': '71', 'visibility': '10', 'visibilityMiles': '6', 'pressure': '1020', 'pressureInches': '31', 'cloudcover': '45', 'HeatIndexC': '13', 'HeatIndexF': '56', 'DewPointC': '8', 'DewPointF': '47', 'WindChillC': '11', 'WindChillF': '53', 'WindGustMiles': '17', 'WindGustKmph': '27', 'FeelsLikeC': '11', 'FeelsLikeF': '53', 'uvIndex': '1'}, {'time': '1200', 'tempC': '14', 'tempF': '57', 'windspeedMiles': '14', 'windspeedKmph': '22', 'winddirDegree': '247', 'winddir16Point': 'WSW', 'weatherCode': '176', 'weatherIconUrl': [{'value': 'http://cdn.worldweatheronline.net/images/wsymbols01_png_64/wsymbol_0009_light_rain_showers.png'}], 'weatherDesc': [{'value': 'Patchy rain possible'}], 'precipMM': '0.1', 'precipInches': '0.0', 'humidity': '71', 'visibility': '10', 'visibilityMiles': '6', 'pressure': '1020', 'pressureInches': '31', 'cloudcover': '88', 'HeatIndexC': '14', 'HeatIndexF': '57', 'DewPointC': '9', 'DewPointF': '48', 'WindChillC': '12', 'WindChillF': '54', 'WindGustMiles': '18', 'WindGustKmph': '29', 'FeelsLikeC': '12', 'FeelsLikeF': '54', 'uvIndex': '1'}, {'time': '1500', 'tempC': '15', 'tempF': '58', 'windspeedMiles': '13', 'windspeedKmph': '21', 'winddirDegree': '252', 'winddir16Point': 'WSW', 'weatherCode': '353', 'weatherIconUrl': [{'value': 'http://cdn.worldweatheronline.net/images/wsymbols01_png_64/wsymbol_0009_light_rain_showers.png'}], 'weatherDesc': [{'value': 'Light rain shower'}], 'precipMM': '0.3', 'precipInches': '0.0', 'humidity': '79', 'visibility': '10', 'visibilityMiles': '6', 'pressure': '1020', 'pressureInches': '31', 'cloudcover': '51', 'HeatIndexC': '15', 'HeatIndexF': '58', 'DewPointC': '11', 'DewPointF': '52', 'WindChillC': '13', 'WindChillF': '56', 'WindGustMiles': '16', 'WindGustKmph': '26', 'FeelsLikeC': '13', 'FeelsLikeF': '56', 'uvIndex': '1'}, {'time': '1800', 'tempC': '14', 'tempF': '58', 'windspeedMiles': '13', 'windspeedKmph': '21', 'winddirDegree': '280', 'winddir16Point': 'W', 'weatherCode': '176', 'weatherIconUrl': [{'value': 'http://cdn.worldweatheronline.net/images/wsymbols01_png_64/wsymbol_0009_light_rain_showers.png'}], 'weatherDesc': [{'value': 'Patchy rain possible'}], 'precipMM': '0.3', 'precipInches': '0.0', 'humidity': '80', 'visibility': '9', 'visibilityMiles': '5', 'pressure': '1020', 'pressureInches': '31', 'cloudcover': '72', 'HeatIndexC': '14', 'HeatIndexF': '58', 'DewPointC': '11', 'DewPointF': '52', 'WindChillC': '13', 'WindChillF': '55', 'WindGustMiles': '19', 'WindGustKmph': '31', 'FeelsLikeC': '13', 'FeelsLikeF': '55', 'uvIndex': '1'}, {'time': '2100', 'tempC': '12', 'tempF': '53', 'windspeedMiles': '9', 'windspeedKmph': '14', 'winddirDegree': '275', 'winddir16Point': 'W', 'weatherCode': '116', 'weatherIconUrl': [{'value': 'http://cdn.worldweatheronline.net/images/wsymbols01_png_64/wsymbol_0004_black_low_cloud.png'}], 'weatherDesc': [{'value': 'Partly cloudy'}], 'precipMM': '0.0', 'precipInches': '0.0', 'humidity': '84', 'visibility': '10', 'visibilityMiles': '6', 'pressure': '1022', 'pressureInches': '31', 'cloudcover': '32', 'HeatIndexC': '12', 'HeatIndexF': '53', 'DewPointC': '9', 'DewPointF': '49', 'WindChillC': '10', 'WindChillF': '51', 'WindGustMiles': '17', 'WindGustKmph': '27', 'FeelsLikeC': '10', 'FeelsLikeF': '51', 'uvIndex': '1'}]}], [{'date': '2019-09-02', 'astronomy': [{'sunrise': '05:47 AM', 'sunset': '07:24 PM', 'moonrise': '09:39 AM', 'moonset': '09:08 PM', 'moon_phase': 'Waxing Crescent', 'moon_illumination': '16'}], 'maxtempC': '16', 'maxtempF': '60', 'mintempC': '13', 'mintempF': '55', 'avgtempC': '15', 'avgtempF': '59', 'totalSnow_cm': '0.0', 'sunHour': '8.6', 'uvIndex': '1', 'hourly': [{'time': '0', 'tempC': '13', 'tempF': '55', 'windspeedMiles': '9', 'windspeedKmph': '15', 'winddirDegree': '247', 'winddir16Point': 'WSW', 'weatherCode': '116', 'weatherIconUrl': [{'value': 'http://cdn.worldweatheronline.net/images/wsymbols01_png_64/wsymbol_0004_black_low_cloud.png'}], 'weatherDesc': [{'value': 'Partly cloudy'}], 'precipMM': '0.0', 'precipInches': '0.0', 'humidity': '88', 'visibility': '10', 'visibilityMiles': '6', 'pressure': '1022', 'pressureInches': '31', 'cloudcover': '54', 'HeatIndexC': '13', 'HeatIndexF': '55', 'DewPointC': '11', 'DewPointF': '51', 'WindChillC': '11', 'WindChillF': '52', 'WindGustMiles': '16', 'WindGustKmph': '26', 'FeelsLikeC': '11', 'FeelsLikeF': '52', 'uvIndex': '1'}, {'time': '300', 'tempC': '13', 'tempF': '56', 'windspeedMiles': '13', 'windspeedKmph': '21', 'winddirDegree': '243', 'winddir16Point': 'WSW', 'weatherCode': '176', 'weatherIconUrl': [{'value': 'http://cdn.worldweatheronline.net/images/wsymbols01_png_64/wsymbol_0025_light_rain_showers_night.png'}], 'weatherDesc': [{'value': 'Patchy rain possible'}], 'precipMM': '0.1', 'precipInches': '0.0', 'humidity': '89', 'visibility': '10', 'visibilityMiles': '6', 'pressure': '1021', 'pressureInches': '31', 'cloudcover': '69', 'HeatIndexC': '13', 'HeatIndexF': '56', 'DewPointC': '12', 'DewPointF': '53', 'WindChillC': '12', 'WindChillF': '53', 'WindGustMiles': '23', 'WindGustKmph': '37', 'FeelsLikeC': '12', 'FeelsLikeF': '53', 'uvIndex': '1'}, {'time': '600', 'tempC': '14', 'tempF': '57', 'windspeedMiles': '16', 'windspeedKmph': '26', 'winddirDegree': '241', 'winddir16Point': 'WSW', 'weatherCode': '353', 'weatherIconUrl': [{'value': 'http://cdn.worldweatheronline.net/images/wsymbols01_png_64/wsymbol_0025_light_rain_showers_night.png'}], 'weatherDesc': [{'value': 'Light rain shower'}], 'precipMM': '0.2', 'precipInches': '0.0', 'humidity': '86', 'visibility': '10', 'visibilityMiles': '6', 'pressure': '1020', 'pressureInches': '31', 'cloudcover': '70', 'HeatIndexC': '14', 'HeatIndexF': '57', 'DewPointC': '12', 'DewPointF': '53', 'WindChillC': '12', 'WindChillF': '54', 'WindGustMiles': '26', 'WindGustKmph': '42', 'FeelsLikeC': '12', 'FeelsLikeF': '54', 'uvIndex': '1'}, {'time': '900', 'tempC': '15', 'tempF': '59', 'windspeedMiles': '19', 'windspeedKmph': '30', 'winddirDegree': '245', 'winddir16Point': 'WSW', 'weatherCode': '176', 'weatherIconUrl': [{'value': 'http://cdn.worldweatheronline.net/images/wsymbols01_png_64/wsymbol_0009_light_rain_showers.png'}], 'weatherDesc': [{'value': 'Patchy rain possible'}], 'precipMM': '0.1', 'precipInches': '0.0', 'humidity': '86', 'visibility': '10', 'visibilityMiles': '6', 'pressure': '1020', 'pressureInches': '31', 'cloudcover': '100', 'HeatIndexC': '15', 'HeatIndexF': '59', 'DewPointC': '13', 'DewPointF': '55', 'WindChillC': '13', 'WindChillF': '55', 'WindGustMiles': '27', 'WindGustKmph': '43', 'FeelsLikeC': '13', 'FeelsLikeF': '55', 'uvIndex': '1'}, {'time': '1200', 'tempC': '15', 'tempF': '60', 'windspeedMiles': '20', 'windspeedKmph': '32', 'winddirDegree': '251', 'winddir16Point': 'WSW', 'weatherCode': '176', 'weatherIconUrl': [{'value': 'http://cdn.worldweatheronline.net/images/wsymbols01_png_64/wsymbol_0009_light_rain_showers.png'}], 'weatherDesc': [{'value': 'Patchy rain possible'}], 'precipMM': '0.2', 'precipInches': '0.0', 'humidity': '82', 'visibility': '10', 'visibilityMiles': '6', 'pressure': '1020', 'pressureInches': '31', 'cloudcover': '80', 'HeatIndexC': '15', 'HeatIndexF': '60', 'DewPointC': '12', 'DewPointF': '54', 'WindChillC': '15', 'WindChillF': '60', 'WindGustMiles': '30', 'WindGustKmph': '48', 'FeelsLikeC': '15', 'FeelsLikeF': '60', 'uvIndex': '1'}, {'time': '1500', 'tempC': '16', 'tempF': '60', 'windspeedMiles': '21', 'windspeedKmph': '34', 'winddirDegree': '253', 'winddir16Point': 'WSW', 'weatherCode': '353', 'weatherIconUrl': [{'value': 'http://cdn.worldweatheronline.net/images/wsymbols01_png_64/wsymbol_0009_light_rain_showers.png'}], 'weatherDesc': [{'value': 'Light rain shower'}], 'precipMM': '0.2', 'precipInches': '0.0', 'humidity': '80', 'visibility': '10', 'visibilityMiles': '6', 'pressure': '1020', 'pressureInches': '31', 'cloudcover': '84', 'HeatIndexC': '16', 'HeatIndexF': '60', 'DewPointC': '12', 'DewPointF': '54', 'WindChillC': '16', 'WindChillF': '60', 'WindGustMiles': '31', 'WindGustKmph': '49', 'FeelsLikeC': '16', 'FeelsLikeF': '60', 'uvIndex': '1'}, {'time': '1800', 'tempC': '15', 'tempF': '59', 'windspeedMiles': '18', 'windspeedKmph': '29', 'winddirDegree': '251', 'winddir16Point': 'WSW', 'weatherCode': '176', 'weatherIconUrl': [{'value': 'http://cdn.worldweatheronline.net/images/wsymbols01_png_64/wsymbol_0009_light_rain_showers.png'}], 'weatherDesc': [{'value': 'Patchy rain possible'}], 'precipMM': '0.3', 'precipInches': '0.0', 'humidity': '83', 'visibility': '9', 'visibilityMiles': '5', 'pressure': '1020', 'pressureInches': '31', 'cloudcover': '77', 'HeatIndexC': '15', 'HeatIndexF': '59', 'DewPointC': '12', 'DewPointF': '54', 'WindChillC': '13', 'WindChillF': '55', 'WindGustMiles': '27', 'WindGustKmph': '44', 'FeelsLikeC': '13', 'FeelsLikeF': '55', 'uvIndex': '1'}, {'time': '2100', 'tempC': '14', 'tempF': '58', 'windspeedMiles': '17', 'windspeedKmph': '27', 'winddirDegree': '246', 'winddir16Point': 'WSW', 'weatherCode': '353', 'weatherIconUrl': [{'value': 'http://cdn.worldweatheronline.net/images/wsymbols01_png_64/wsymbol_0025_light_rain_showers_night.png'}], 'weatherDesc': [{'value': 'Light rain shower'}], 'precipMM': '0.2', 'precipInches': '0.0', 'humidity': '91', 'visibility': '10', 'visibilityMiles': '6', 'pressure': '1021', 'pressureInches': '31', 'cloudcover': '100', 'HeatIndexC': '14', 'HeatIndexF': '58', 'DewPointC': '13', 'DewPointF': '55', 'WindChillC': '13', 'WindChillF': '55', 'WindGustMiles': '27', 'WindGustKmph': '43', 'FeelsLikeC': '13', 'FeelsLikeF': '55', 'uvIndex': '1'}]}]]\n"
     ],
     "output_type": "stream"
    }
   ],
   "source": [
    "import requests\n",
    "import json\n",
    "\n",
    "weather_api_key1 = \"4a88876129264886896114557202902\"\n",
    "\n",
    "json_weather_data = []\n",
    "location1 = \"53.263329,-9.070642\"\n",
    "year1 = 2019\n",
    "month1 = \"09\"\n",
    "day1 = \"01\"\n",
    "day2 = \"02\"\n",
    "\n",
    "def build_weather_request(location, year, month, day):\n",
    "    return \"http://api.worldweatheronline.com/premium/v1/past-weather.ashx?key=\" + weather_api_key + \"&q=\"+ location +\"&format=json&date=\"+ str(year) + \"-\" + str(month) + \"-\" + str(day)\n",
    "\n",
    "def execute_request(link):\n",
    "    response = requests.get(link)\n",
    "    json_res = response.json()['data']['weather']\n",
    "    json_weather_data.append(json_res)\n",
    "\n",
    "def write_data_to_file(weather_data_array):\n",
    "    with open('weather_data.json', 'w', encoding='utf-8') as f:\n",
    "        json.dump(weather_data_array, f, ensure_ascii=False, indent=4)\n",
    "\n",
    "execute_request(build_weather_request(location1, year1, month1, day1))\n",
    "execute_request(build_weather_request(location1, year1, month1, day2))\n",
    "\n",
    "write_data_to_file(json_weather_data)\n"
   ]
  }
 ],
 "metadata": {
  "kernelspec": {
   "display_name": "Python 3",
   "language": "python",
   "name": "python3"
  },
  "language_info": {
   "codemirror_mode": {
    "name": "ipython",
    "version": 2
   },
   "file_extension": ".py",
   "mimetype": "text/x-python",
   "name": "python",
   "nbconvert_exporter": "python",
   "pygments_lexer": "ipython2",
   "version": "2.7.6"
  },
  "pycharm": {
   "stem_cell": {
    "cell_type": "raw",
    "source": [],
    "metadata": {
     "collapsed": false
    }
   }
  }
 },
 "nbformat": 4,
 "nbformat_minor": 0
}
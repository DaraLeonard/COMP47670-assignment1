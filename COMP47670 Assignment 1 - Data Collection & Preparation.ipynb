{
 "cells": [
  {
   "cell_type": "markdown",
   "metadata": {},
   "source": [
    "##### Student Name: Dara Leonard\n",
    "##### Student ID: 19202478"
   ]
  },
  {
   "cell_type": "code",
   "execution_count": 7,
   "metadata": {
    "pycharm": {
     "is_executing": false
    }
   },
   "outputs": [
    {
     "data": {
      "text/plain": "  segment_id                          segment_name   distance best_time  \\\n0    4878158  Quincentennial Bridge (West to East)   975.30 m  00:01:33   \n1   11123727                             town loop  4125.70 m  00:18:01   \n2   11517987                  Aughinish long trail  3532.30 m  00:14:21   \n3    6617028                    Unnamed Road Climb  1819.70 m  00:15:49   \n\n       best_time_date  location                       city effort_count  \n0 2019-12-04 20:18:05    Galway                     Galway         2210  \n1 2016-02-25 19:07:26  Limerick                       None           37  \n2 2018-04-13 18:58:26  Limerick                       None          509  \n3 2016-09-11 08:42:31     Clare  Clare, Co. Clare, Ireland           13  ",
      "text/html": "<div>\n<style scoped>\n    .dataframe tbody tr th:only-of-type {\n        vertical-align: middle;\n    }\n\n    .dataframe tbody tr th {\n        vertical-align: top;\n    }\n\n    .dataframe thead th {\n        text-align: right;\n    }\n</style>\n<table border=\"1\" class=\"dataframe\">\n  <thead>\n    <tr style=\"text-align: right;\">\n      <th></th>\n      <th>segment_id</th>\n      <th>segment_name</th>\n      <th>distance</th>\n      <th>best_time</th>\n      <th>best_time_date</th>\n      <th>location</th>\n      <th>city</th>\n      <th>effort_count</th>\n    </tr>\n  </thead>\n  <tbody>\n    <tr>\n      <th>0</th>\n      <td>4878158</td>\n      <td>Quincentennial Bridge (West to East)</td>\n      <td>975.30 m</td>\n      <td>00:01:33</td>\n      <td>2019-12-04 20:18:05</td>\n      <td>Galway</td>\n      <td>Galway</td>\n      <td>2210</td>\n    </tr>\n    <tr>\n      <th>1</th>\n      <td>11123727</td>\n      <td>town loop</td>\n      <td>4125.70 m</td>\n      <td>00:18:01</td>\n      <td>2016-02-25 19:07:26</td>\n      <td>Limerick</td>\n      <td>None</td>\n      <td>37</td>\n    </tr>\n    <tr>\n      <th>2</th>\n      <td>11517987</td>\n      <td>Aughinish long trail</td>\n      <td>3532.30 m</td>\n      <td>00:14:21</td>\n      <td>2018-04-13 18:58:26</td>\n      <td>Limerick</td>\n      <td>None</td>\n      <td>509</td>\n    </tr>\n    <tr>\n      <th>3</th>\n      <td>6617028</td>\n      <td>Unnamed Road Climb</td>\n      <td>1819.70 m</td>\n      <td>00:15:49</td>\n      <td>2016-09-11 08:42:31</td>\n      <td>Clare</td>\n      <td>Clare, Co. Clare, Ireland</td>\n      <td>13</td>\n    </tr>\n  </tbody>\n</table>\n</div>"
     },
     "metadata": {},
     "output_type": "execute_result",
     "execution_count": 7
    }
   ],
   "source": [
    "import pandas as pd\n",
    "from stravalib import Client\n",
    "\n",
    "strava_client = Client(access_token=\"26f827483092d875bc5986834686d28fad87a38a\")\n",
    "\n",
    "res = strava_client.explore_segments(bounds=[53.263329, -9.070642, 53.283310, -9.044810], activity_type='running') # Get current athlete details\n",
    "seg_info = [strava_client.get_segment(seg.id) for seg in res]\n",
    "\n",
    "columns = [\"segment_id\", \"segment_name\", \"distance\", \"best_time\", \"best_time_date\", \"location\", \"city\", \"effort_count\"]\n",
    "df = pd.DataFrame(columns=columns)\n",
    "for i, seg in enumerate(seg_info):\n",
    "    segment_leaderboard = strava_client.get_segment_leaderboard(seg.id)\n",
    "    tmp = dict({\"segment_id\": seg.id,\n",
    "             \"segment_name\": seg.name,\n",
    "             \"distance\": seg.distance,\n",
    "             \"best_time\" : segment_leaderboard.entries[0].elapsed_time,\n",
    "             \"best_time_date\" : segment_leaderboard.entries[0].start_date_local,\n",
    "             \"location\": seg.state,\n",
    "             \"city\": seg.city,\n",
    "             \"effort_count\": seg.effort_count})\n",
    "    df.loc[i] = tmp\n",
    "    \n",
    "df"
   ]
  },
  {
   "cell_type": "code",
   "execution_count": 7,
   "metadata": {
    "pycharm": {
     "is_executing": false
    }
   },
   "outputs": [],
   "source": []
  }
 ],
 "metadata": {
  "kernelspec": {
   "display_name": "Python 3",
   "language": "python",
   "name": "python3"
  },
  "language_info": {
   "codemirror_mode": {
    "name": "ipython",
    "version": 3
   },
   "file_extension": ".py",
   "mimetype": "text/x-python",
   "name": "python",
   "nbconvert_exporter": "python",
   "pygments_lexer": "ipython3",
   "version": "3.7.4"
  },
  "pycharm": {
   "stem_cell": {
    "cell_type": "raw",
    "source": [],
    "metadata": {
     "collapsed": false
    }
   }
  }
 },
 "nbformat": 4,
 "nbformat_minor": 2
}
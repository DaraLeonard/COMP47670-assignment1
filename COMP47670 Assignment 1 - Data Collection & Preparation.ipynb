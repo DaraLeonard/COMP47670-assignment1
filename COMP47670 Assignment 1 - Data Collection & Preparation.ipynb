{
 "cells": [
  {
   "cell_type": "markdown",
   "source": [
    "# COMP47670 Assignment 1: Data Collection & Preparation\n",
    "\n",
    "\n",
    "#### Student Name: Dara Leonard\n",
    "#### Student ID: 19202478"
   ],
   "metadata": {
    "collapsed": false
   }
  },
  {
   "cell_type": "code",
   "metadata": {
    "pycharm": {
     "is_executing": false,
     "name": "#%%\n"
    }
   },
   "source": [
    "import gmplot\n",
    "import matplotlib.pyplot as plt\n",
    "import pandas as pd\n",
    "import requests\n",
    "from stravalib import Client "
   ],
   "execution_count": 32,
   "outputs": []
  },
  {
   "cell_type": "markdown",
   "source": [
    "#### Task 1: Identify one or more suitable web APIs\n",
    "\n",
    "Two web APIs have been identified to investigate if the weather in a certain location has an impact on the top time on a\n",
    "segment on Strava. A segment is a portion of road or trail created by members where athletes can compare times. For the sake\n",
    "of this project, I am only focusing on running segments. This can easily be changed to look for cycling segments by changing\n",
    "the 'activity_type' in the 'explore_segments' API call to 'riding'.\n",
    "\n",
    "Any area can be scanned for segments by entering the latitude and longitude (South-West and North-East\n",
    "corners) of said area. Due to a limitation of the Strava API, a limit of 10 segments in an area can be returned. The\n",
    "Strava API is openly available and allows for requests to be made for public data and data specific to an individual\n",
    "athlete. The access token is refreshed daily. 'stravalib' is used in this project and is a python library for interacting\n",
    "with version 3 of the Strava API. [Documention for stravalib can be found here.](https://pythonhosted.org/stravalib/)\n",
    "\n",
    "The World Weather Online offers an API for historic weather that can be queried with latitude and longitude. It also offers\n",
    "an API that provided the climate for an area based on the previous seven years of weather. These APIs are not freely\n",
    "available but there is a free 60 day trial upon signing up.\n",
    "\n",
    "World Weather Online has a number of useful APIs for gathering weather data, two of which were used in this project:\n",
    "\n",
    "[LOCAL WEATHER API](https://www.worldweatheronline.com/developer/api/docs/local-city-town-weather-api.aspx)\n",
    "This API was used to get climate data for a specified location, averaged over the last 12 years.\n",
    "\n",
    "[HISTORICAL OR PAST WEATHER API](https://www.worldweatheronline.com/developer/api/docs/historical-weather-api.aspx)\n",
    "This API was used to get the weather on the specific days that a record was set on a Strava segment.\n",
    "\n",
    "\n",
    "This project is available publicly [on my personal GitHub page](https://github.com/DaraLeonard/COMP47670-assignment1)"
   ],
   "metadata": {
    "collapsed": false
   }
  },
  {
   "cell_type": "markdown",
   "source": [
    "Set API keys for making requests"
   ],
   "metadata": {
    "collapsed": false
   }
  },
  {
   "cell_type": "code",
   "execution_count": 33,
   "outputs": [],
   "source": [
    "strava_client = Client(access_token='STRAVA API TOKEN HERE')\n",
    "\n",
    "weather_api_key = 'World Weather Online API TOKEN HERE'"
   ],
   "metadata": {
    "collapsed": false,
    "pycharm": {
     "name": "#%%\n",
     "is_executing": false
    }
   }
  },
  {
   "cell_type": "markdown",
   "source": [
    "The next two functions are building the request URL for the requests to be made to the World Weather Online APIs. Since\n",
    "I am using the stravalib python library, the equivalent method is not needed for building the Strava API requests."
   ],
   "metadata": {
    "collapsed": false
   }
  },
  {
   "cell_type": "code",
   "execution_count": 34,
   "outputs": [],
   "source": [
    "def build_past_weather_request(location, year, month, day):\n",
    "    return 'http://api.worldweatheronline.com/premium/v1/past-weather.ashx?key=' + weather_api_key + '&q='+ location +'&format=json&date='+ str(year) + '-' + str(month) + '-' + str(day)\n",
    "\n",
    "def build_climate_request(location):\n",
    "    return 'http://api.worldweatheronline.com/premium/v1/weather.ashx?key=' + weather_api_key + '&q='+ location + '&format=json&mca=yes'"
   ],
   "metadata": {
    "collapsed": false,
    "pycharm": {
     "name": "#%%\n",
     "is_executing": false
    }
   }
  },
  {
   "cell_type": "markdown",
   "source": [
    "#### Task 2: Collect data your chosen API(s)\n",
    "The following four functions execute calls to the three identified APIs. At the end of this function, there are three\n",
    "Pandas DataFrames that contain all of the data collected from the three API calls.\n",
    "\n",
    "###### segment_info_df_final\n",
    "This DataFrame contains all of the Strava segment data retrieved from the API. \n",
    "\n",
    "###### weather_data_df_final\n",
    "This DataFrame contains data on the weather in the area of a segment on the day that the best segment time was set.\n",
    "\n",
    "###### climate_data_df_final\n",
    "This DataFrame contains data on the climate of the area specified over the previous 12 years. \n",
    "\n",
    "\n",
    "Set the North-East and South-West corners of your segment search area"
   ],
   "metadata": {
    "collapsed": false,
    "pycharm": {
     "name": "#%% md\n"
    }
   }
  },
  {
   "cell_type": "code",
   "execution_count": 35,
   "outputs": [],
   "source": [
    "sw_lat = 53.263329\n",
    "sw_lng = -9.070642\n",
    "ne_lat = 53.283310\n",
    "ne_lng = -9.044810"
   ],
   "metadata": {
    "collapsed": false,
    "pycharm": {
     "name": "#%%\n",
     "is_executing": false
    }
   }
  },
  {
   "cell_type": "code",
   "execution_count": 36,
   "outputs": [],
   "source": [
    "def execute_strava_requests():\n",
    "    segments_in_an_area = strava_client.explore_segments(bounds=[sw_lat, sw_lng, ne_lat, ne_lng], activity_type='running') # Get current athlete details\n",
    "    return [strava_client.get_segment(segment.id) for segment in segments_in_an_area]\n",
    " \n",
    "def execute_weather_request(link):\n",
    "    response = requests.get(link)\n",
    "    json_res = response.json()['data']['weather']\n",
    "    return json_res\n",
    "\n",
    "def execute_historical_climate_request(link):\n",
    "    response = requests.get(link)\n",
    "    json_res = response.json()['data']['ClimateAverages']\n",
    "    return json_res\n",
    "\n",
    "def execute_api_requests(segment_info):\n",
    "    weather_data_columns = ['date', 'astronomy', 'maxtempC','maxtempF','mintempC','mintempF','avgtempC', 'avgtempF', 'totalSnow_cm', 'sunHour', 'uvIndex', 'hourly']\n",
    "    weather_data_df = pd.DataFrame(columns=weather_data_columns)\n",
    "    \n",
    "    climate_data_columns = ['start_latitude', 'start_longitude', 'month']\n",
    "    climate_data_df = pd.DataFrame(columns=climate_data_columns)\n",
    "    \n",
    "    segment_info_columns = ['id', 'name', 'activity_type', 'distance', 'start_latitude', 'start_longitude', 'end_latitude',\n",
    "           'end_longitude', 'city', 'state', 'country', 'hazardous', 'map_id', 'map_polyline', 'effort_count',\n",
    "           'athlete_count', 'star_count', 'best_time', 'best_time_date']\n",
    "    segment_info_df = pd.DataFrame(columns=segment_info_columns)\n",
    "    for i, segment in enumerate(segment_info):\n",
    "        segment_leader_board = strava_client.get_segment_leaderboard(segment.id)\n",
    "        best_time = segment_leader_board.entries[0].elapsed_time\n",
    "        best_time_date = segment_leader_board.entries[0].start_date\n",
    "        strava_tmp = dict({'id': segment.id,\n",
    "             'name': segment.name,\n",
    "             'activity_type': segment.activity_type,\n",
    "             'distance': segment.distance,\n",
    "             'start_latitude': segment.start_latitude,\n",
    "             'start_longitude': segment.start_longitude,\n",
    "             'end_latitude': segment.end_latitude,\n",
    "             'end_longitude': segment.end_longitude,\n",
    "             'city': segment.city,\n",
    "             'state': segment.state,\n",
    "             'country': segment.country,\n",
    "             'hazardous': segment.hazardous,\n",
    "             'map_id': segment.map.id,\n",
    "             'map_polyline': segment.map.polyline,\n",
    "             'effort_count': segment.effort_count,\n",
    "             'athlete_count': segment.athlete_count,\n",
    "             'star_count': segment.star_count,\n",
    "             'best_time' : best_time, \n",
    "             'best_time_date' : best_time_date})\n",
    "        \n",
    "        \n",
    "        # The following try/catch block is necessary as the latitude and longitude returned from the Strava API is not \n",
    "        # always in the correct format, or is not set. Here we try the returned latitude and longitude and if it is not in \n",
    "        # the correct format for the World Weather Online API, we fall back to the input coordinates for the North-East\n",
    "        # and South-West corners. This decision was made to prevent errors and missing data.\n",
    "\n",
    "        try:\n",
    "            weather_data = execute_weather_request(build_past_weather_request(str(segment.start_latitude + segment.start_longitude), best_time_date.year, best_time_date.month, best_time_date.day))\n",
    "            tmp_lat = sw_lat\n",
    "            tmp_long = sw_lng\n",
    "        except (KeyError, TypeError):\n",
    "            weather_data = execute_weather_request(build_past_weather_request(str(sw_lat + sw_lng), best_time_date.year, best_time_date.month, best_time_date.day))\n",
    "            tmp_lat = sw_lat\n",
    "            tmp_long = sw_lng\n",
    "        \n",
    "        strava_tmp['start_latitude'] = tmp_lat\n",
    "        strava_tmp['start_longitude'] = tmp_long\n",
    "        segment_info_df.loc[i] = strava_tmp\n",
    "\n",
    "        weather_tmp = dict({'date' : weather_data[0].get('date'),\n",
    "                    'astronomy' : weather_data[0].get('astronomy'),\n",
    "                    'maxtempC': weather_data[0].get('maxtempC'),\n",
    "                    'maxtempF': weather_data[0].get('maxtempF'),\n",
    "                    'mintempC': weather_data[0].get('mintempC'),\n",
    "                    'mintempF': weather_data[0].get('mintempF'),\n",
    "                    'avgtempC': weather_data[0].get('avgtempC'),\n",
    "                    'avgtempF': weather_data[0].get('avgtempF'),\n",
    "                    'totalSnow_cm': weather_data[0].get('totalSnow_cm'), \n",
    "                    'sunHour': weather_data[0].get('sunHour'), \n",
    "                    'uvIndex': weather_data[0].get('uvIndex'), \n",
    "                    'hourly': weather_data[0].get('hourly')})\n",
    "        weather_data_df.loc[i] = weather_tmp\n",
    "\n",
    "        climate_data = execute_historical_climate_request(build_climate_request(str(tmp_lat + tmp_long)))\n",
    "\n",
    "        climate_tmp = dict({\n",
    "            'start_latitude' : segment.start_latitude,\n",
    "            'start_longitude' : segment.start_longitude,\n",
    "            'month' : climate_data\n",
    "        })\n",
    "        climate_data_df.loc[i] = climate_tmp\n",
    "\n",
    "    return segment_info_df, weather_data_df, climate_data_df\n",
    "\n",
    "\n",
    "segment_info_final = execute_strava_requests()\n",
    "segment_info_df_final, weather_data_df_final, climate_data_df_final = execute_api_requests(segment_info_final)"
   ],
   "metadata": {
    "collapsed": false,
    "pycharm": {
     "name": "#%%\n",
     "is_executing": false
    }
   }
  },
  {
   "cell_type": "markdown",
   "source": [
    "#### Task 3: Parse the collected data, and store it in an appropriate file format\n",
    "The following code dumps each of the DataFrames to a JSON file. The data is reasonably structured before it is dumped to\n",
    "a JSON file, but still needs to be cleaned and the useful data extracted."
   ],
   "metadata": {
    "collapsed": false
   }
  },
  {
   "cell_type": "code",
   "execution_count": 37,
   "outputs": [],
   "source": [
    "segment_info_df_final.to_json('strava-data.json', orient='records')\n",
    "weather_data_df_final.to_json('weather-data.json', orient='records')\n",
    "climate_data_df_final.to_json('climate-data.json', orient='records')"
   ],
   "metadata": {
    "collapsed": false,
    "pycharm": {
     "name": "#%%\n",
     "is_executing": false
    }
   }
  },
  {
   "cell_type": "markdown",
   "source": [
    "#### Task 4: Load and represent the data using an appropriate data structure. Apply any pre-processing steps to clean/filter/combine the data\n",
    "Data is read from the JSON files into DataFrames"
   ],
   "metadata": {
    "collapsed": false
   }
  },
  {
   "cell_type": "code",
   "execution_count": 47,
   "outputs": [],
   "source": [
    "strava_data = pd.read_json('strava-data.json', orient='records')\n",
    "weather_data = pd.read_json('weather-data.json', orient='records')\n",
    "climate_data = pd.read_json('climate-data.json', orient='records')"
   ],
   "metadata": {
    "collapsed": false,
    "pycharm": {
     "name": "#%%\n",
     "is_executing": false
    }
   }
  },
  {
   "cell_type": "markdown",
   "source": [
    "Data necessary to carry out analysis is identified and extracted. The next three functions carry out data manipulation\n",
    "to extract all the data identified to perform analysis.\n",
    "\n",
    "A new Dataframe (consolidated_df) is then constructed with the identified data from each of the three DataFrames."
   ],
   "metadata": {
    "collapsed": false
   }
  },
  {
   "cell_type": "code",
   "execution_count": 48,
   "outputs": [],
   "source": [
    "def get_temp_wind_and_rain(pos, rounded_time_value):\n",
    "    for hour in weather_data['hourly'][pos]:\n",
    "        if str(hour.get('time')) == str(rounded_time_value):\n",
    "            return hour.get('tempC'), hour.get('windspeedKmph'), hour.get('precipMM')\n",
    "\n",
    "def round_to_nearest_300(x, base=300):\n",
    "    return base * round(x/base)\n",
    "\n",
    "def get_month_int(pos):\n",
    "    return int(str(pd.to_datetime(strava_data['best_time_date'][pos], unit='ms').date()).split('-')[1])\n",
    "\n",
    "def get_average_precipitation_and_average_min_temp(pos):\n",
    "    for month in climate_data['month'][0]:\n",
    "        return month.get('month')[pos-1].get('avgMinTemp'), month.get('month')[pos-1].get('avgDailyRainfall')\n",
    "\n",
    "consolidated_data_columns = ['Segment Name', 'City', 'Start Latitude', 'Start Longitude', 'Distance (m)', 'Time Taken (s)', 'Speed (m/s)', 'Date', 'Finish Time (Time of Day)', 'Rain that Hour (mm)', 'Wind that Hour (km/hr)', 'Temperature that Hour (C)', 'Average Rainfall (mm/hr)', 'Average Temperature (C)']\n",
    "consolidated_df = pd.DataFrame(columns=consolidated_data_columns)\n",
    "\n",
    "for i in strava_data.index:\n",
    "    rounded_best_time_value = round_to_nearest_300(int(str(pd.to_datetime(strava_data['best_time_date'][i], unit='ms').time()).replace(':', '')[:-2]))\n",
    "    temp, wind_speed, precipitation = get_temp_wind_and_rain(i, rounded_best_time_value)\n",
    "    avrg_tmp, avrg_rain = get_average_precipitation_and_average_min_temp(get_month_int(i))\n",
    "\n",
    "    tmp_consolidated_data = dict({\n",
    "        'Segment Name' : strava_data['name'][i],\n",
    "        'City' : strava_data['city'][i],\n",
    "        'Start Latitude' : strava_data['start_latitude'][i],\n",
    "        'Start Longitude' : strava_data['start_longitude'][i],\n",
    "        'Distance (m)' : strava_data['distance'][i].get('num'),\n",
    "        'Time Taken (s)' : strava_data['best_time'][i]/1000,\n",
    "        'Speed (m/s)' : (strava_data['distance'][i].get('num'))/(strava_data['best_time'][i]/1000),\n",
    "        'Date' : pd.to_datetime(strava_data['best_time_date'][i], unit='ms').date(),\n",
    "        'Finish Time (Time of Day)' : pd.to_datetime(strava_data['best_time_date'][i], unit='ms').time(),\n",
    "        'Rain that Hour (mm)' : float(precipitation),\n",
    "        'Wind that Hour (km/hr)' : float(wind_speed),\n",
    "        'Temperature that Hour (C)' : float(temp),\n",
    "        'Average Rainfall (mm/hr)' : float(avrg_rain),\n",
    "        'Average Temperature (C)' : float(avrg_tmp)\n",
    "    })\n",
    "    consolidated_df.loc[i] = tmp_consolidated_data"
   ],
   "metadata": {
    "collapsed": false,
    "pycharm": {
     "name": "#%%\n",
     "is_executing": false
    }
   }
  },
  {
   "cell_type": "markdown",
   "source": [
    "Try and identify any missing data to see if we need to do any more data manipulation"
   ],
   "metadata": {
    "collapsed": false,
    "pycharm": {
     "name": "#%% md\n",
     "is_executing": false
    }
   }
  },
  {
   "cell_type": "code",
   "execution_count": 49,
   "outputs": [
    {
     "data": {
      "text/plain": "Segment Name                 0\nCity                         0\nStart Latitude               0\nStart Longitude              0\nDistance (m)                 0\nTime Taken (s)               0\nSpeed (m/s)                  0\nDate                         0\nFinish Time (Time of Day)    0\nRain that Hour (mm)          0\nWind that Hour (km/hr)       0\nTemperature that Hour (C)    0\nAverage Rainfall (mm/hr)     0\nAverage Temperature (C)      0\ndtype: int64"
     },
     "metadata": {},
     "output_type": "execute_result",
     "execution_count": 49
    }
   ],
   "source": [
    "consolidated_df.isnull().sum()"
   ],
   "metadata": {
    "collapsed": false,
    "pycharm": {
     "name": "#%% \n",
     "is_executing": false
    }
   }
  },
  {
   "cell_type": "code",
   "execution_count": 50,
   "outputs": [
    {
     "data": {
      "text/plain": "float64    10\nobject      4\ndtype: int64"
     },
     "metadata": {},
     "output_type": "execute_result",
     "execution_count": 50
    }
   ],
   "source": [
    "consolidated_df.dtypes.value_counts() "
   ],
   "metadata": {
    "collapsed": false,
    "pycharm": {
     "name": "#%%\n",
     "is_executing": false
    }
   }
  },
  {
   "cell_type": "markdown",
   "source": [
    "#### Task 5: Analyse and summarise the cleaned dataset\n",
    "The first step is to display the area we're analysing our segments from on a map. [See map of area here.](./segment_map.html)\n",
    "Each of the yellow dots represent the start ponit of each of the segments."
   ],
   "metadata": {
    "collapsed": false
   }
  },
  {
   "cell_type": "code",
   "execution_count": 56,
   "outputs": [],
   "source": [
    "segment_map = gmplot.GoogleMapPlotter(sw_lat, sw_lng, 13) \n",
    "segment_map.scatter(consolidated_df['Start Latitude'], consolidated_df['Start Longitude'], '#f2ff00', size = 40, marker = False)\n",
    "segment_map.draw('segment_map.html')"
   ],
   "metadata": {
    "collapsed": false,
    "pycharm": {
     "name": "#%%\n",
     "is_executing": false
    }
   }
  },
  {
   "cell_type": "markdown",
   "source": [
    "The next step is to display our DataFrame in full"
   ],
   "metadata": {
    "collapsed": false
   }
  },
  {
   "cell_type": "code",
   "execution_count": 52,
   "outputs": [
    {
     "data": {
      "text/plain": "                                        Segment Name                 City  \\\n0            Father Griffin Road - The Galway Bridge               Galway   \n1  Streets of Galway 8k (Galway City Harriers - g...  Co. Galway, Ireland   \n2               Boardwalk to Boardwalk by the Corrib  Co. Galway, Ireland   \n3                               Canals heading south               Galway   \n4               Quincentennial Bridge (West to East)               Galway   \n5                         Resolution run - new route               Galway   \n6                                              River               Galway   \n7                                       St Mary's Rd               Galway   \n8                          Nimmo's Pier Fort to Gate               Galway   \n9                              St  Mary's Rd reverse               Galway   \n\n   Start Latitude  Start Longitude  Distance (m)  Time Taken (s)  Speed (m/s)  \\\n0       53.269709        -9.056491         132.7            14.0     9.478571   \n1       53.268068        -9.058526        8127.2          1543.0     5.267142   \n2       53.271921        -9.055829         362.9            64.0     5.670312   \n3       53.275784        -9.060566         770.5           161.0     4.785714   \n4       53.282325        -9.065295         975.3            93.0    10.487097   \n5       53.265610        -9.055314        5095.5           950.0     5.363684   \n6       53.280613        -9.058181         380.4            60.0     6.340000   \n7       53.272209        -9.062618         443.1            66.0     6.713636   \n8       53.266879        -9.047064         392.3            78.0     5.029487   \n9       53.268953        -9.065958         422.0            36.0    11.722222   \n\n         Date Finish Time (Time of Day)  Rain that Hour (mm)  \\\n0  2018-08-25                  17:14:13                  0.0   \n1  2019-08-10                  18:00:04                  0.0   \n2  2015-11-05                  21:11:12                  0.0   \n3  2018-09-11                  06:20:36                  0.0   \n4  2019-12-04                  20:18:05                  0.0   \n5  2019-01-01                  10:59:58                  0.0   \n6  2020-01-26                  11:33:03                  0.0   \n7  2015-07-09                  16:34:05                  2.2   \n8  2019-01-23                  20:36:56                  0.0   \n9  2017-08-13                  12:22:31                  0.0   \n\n   Wind that Hour (km/hr)  Temperature that Hour (C)  \\\n0                    17.0                       32.0   \n1                    18.0                       34.0   \n2                    30.0                       14.0   \n3                    13.0                       16.0   \n4                     7.0                        8.0   \n5                    10.0                        8.0   \n6                    21.0                       -8.0   \n7                     9.0                       22.0   \n8                    11.0                       -1.0   \n9                    12.0                       26.0   \n\n   Average Rainfall (mm/hr)  Average Temperature (C)  \n0                      2.20                     21.0  \n1                      2.20                     21.0  \n2                      0.55                      3.4  \n3                      1.38                     17.4  \n4                      0.41                     -2.0  \n5                      0.37                     -3.1  \n6                      0.37                     -3.1  \n7                      1.30                     22.6  \n8                      0.37                     -3.1  \n9                      2.20                     21.0  ",
      "text/html": "<div>\n<style scoped>\n    .dataframe tbody tr th:only-of-type {\n        vertical-align: middle;\n    }\n\n    .dataframe tbody tr th {\n        vertical-align: top;\n    }\n\n    .dataframe thead th {\n        text-align: right;\n    }\n</style>\n<table border=\"1\" class=\"dataframe\">\n  <thead>\n    <tr style=\"text-align: right;\">\n      <th></th>\n      <th>Segment Name</th>\n      <th>City</th>\n      <th>Start Latitude</th>\n      <th>Start Longitude</th>\n      <th>Distance (m)</th>\n      <th>Time Taken (s)</th>\n      <th>Speed (m/s)</th>\n      <th>Date</th>\n      <th>Finish Time (Time of Day)</th>\n      <th>Rain that Hour (mm)</th>\n      <th>Wind that Hour (km/hr)</th>\n      <th>Temperature that Hour (C)</th>\n      <th>Average Rainfall (mm/hr)</th>\n      <th>Average Temperature (C)</th>\n    </tr>\n  </thead>\n  <tbody>\n    <tr>\n      <th>0</th>\n      <td>Father Griffin Road - The Galway Bridge</td>\n      <td>Galway</td>\n      <td>53.269709</td>\n      <td>-9.056491</td>\n      <td>132.7</td>\n      <td>14.0</td>\n      <td>9.478571</td>\n      <td>2018-08-25</td>\n      <td>17:14:13</td>\n      <td>0.0</td>\n      <td>17.0</td>\n      <td>32.0</td>\n      <td>2.20</td>\n      <td>21.0</td>\n    </tr>\n    <tr>\n      <th>1</th>\n      <td>Streets of Galway 8k (Galway City Harriers - g...</td>\n      <td>Co. Galway, Ireland</td>\n      <td>53.268068</td>\n      <td>-9.058526</td>\n      <td>8127.2</td>\n      <td>1543.0</td>\n      <td>5.267142</td>\n      <td>2019-08-10</td>\n      <td>18:00:04</td>\n      <td>0.0</td>\n      <td>18.0</td>\n      <td>34.0</td>\n      <td>2.20</td>\n      <td>21.0</td>\n    </tr>\n    <tr>\n      <th>2</th>\n      <td>Boardwalk to Boardwalk by the Corrib</td>\n      <td>Co. Galway, Ireland</td>\n      <td>53.271921</td>\n      <td>-9.055829</td>\n      <td>362.9</td>\n      <td>64.0</td>\n      <td>5.670312</td>\n      <td>2015-11-05</td>\n      <td>21:11:12</td>\n      <td>0.0</td>\n      <td>30.0</td>\n      <td>14.0</td>\n      <td>0.55</td>\n      <td>3.4</td>\n    </tr>\n    <tr>\n      <th>3</th>\n      <td>Canals heading south</td>\n      <td>Galway</td>\n      <td>53.275784</td>\n      <td>-9.060566</td>\n      <td>770.5</td>\n      <td>161.0</td>\n      <td>4.785714</td>\n      <td>2018-09-11</td>\n      <td>06:20:36</td>\n      <td>0.0</td>\n      <td>13.0</td>\n      <td>16.0</td>\n      <td>1.38</td>\n      <td>17.4</td>\n    </tr>\n    <tr>\n      <th>4</th>\n      <td>Quincentennial Bridge (West to East)</td>\n      <td>Galway</td>\n      <td>53.282325</td>\n      <td>-9.065295</td>\n      <td>975.3</td>\n      <td>93.0</td>\n      <td>10.487097</td>\n      <td>2019-12-04</td>\n      <td>20:18:05</td>\n      <td>0.0</td>\n      <td>7.0</td>\n      <td>8.0</td>\n      <td>0.41</td>\n      <td>-2.0</td>\n    </tr>\n    <tr>\n      <th>5</th>\n      <td>Resolution run - new route</td>\n      <td>Galway</td>\n      <td>53.265610</td>\n      <td>-9.055314</td>\n      <td>5095.5</td>\n      <td>950.0</td>\n      <td>5.363684</td>\n      <td>2019-01-01</td>\n      <td>10:59:58</td>\n      <td>0.0</td>\n      <td>10.0</td>\n      <td>8.0</td>\n      <td>0.37</td>\n      <td>-3.1</td>\n    </tr>\n    <tr>\n      <th>6</th>\n      <td>River</td>\n      <td>Galway</td>\n      <td>53.280613</td>\n      <td>-9.058181</td>\n      <td>380.4</td>\n      <td>60.0</td>\n      <td>6.340000</td>\n      <td>2020-01-26</td>\n      <td>11:33:03</td>\n      <td>0.0</td>\n      <td>21.0</td>\n      <td>-8.0</td>\n      <td>0.37</td>\n      <td>-3.1</td>\n    </tr>\n    <tr>\n      <th>7</th>\n      <td>St Mary's Rd</td>\n      <td>Galway</td>\n      <td>53.272209</td>\n      <td>-9.062618</td>\n      <td>443.1</td>\n      <td>66.0</td>\n      <td>6.713636</td>\n      <td>2015-07-09</td>\n      <td>16:34:05</td>\n      <td>2.2</td>\n      <td>9.0</td>\n      <td>22.0</td>\n      <td>1.30</td>\n      <td>22.6</td>\n    </tr>\n    <tr>\n      <th>8</th>\n      <td>Nimmo's Pier Fort to Gate</td>\n      <td>Galway</td>\n      <td>53.266879</td>\n      <td>-9.047064</td>\n      <td>392.3</td>\n      <td>78.0</td>\n      <td>5.029487</td>\n      <td>2019-01-23</td>\n      <td>20:36:56</td>\n      <td>0.0</td>\n      <td>11.0</td>\n      <td>-1.0</td>\n      <td>0.37</td>\n      <td>-3.1</td>\n    </tr>\n    <tr>\n      <th>9</th>\n      <td>St  Mary's Rd reverse</td>\n      <td>Galway</td>\n      <td>53.268953</td>\n      <td>-9.065958</td>\n      <td>422.0</td>\n      <td>36.0</td>\n      <td>11.722222</td>\n      <td>2017-08-13</td>\n      <td>12:22:31</td>\n      <td>0.0</td>\n      <td>12.0</td>\n      <td>26.0</td>\n      <td>2.20</td>\n      <td>21.0</td>\n    </tr>\n  </tbody>\n</table>\n</div>"
     },
     "metadata": {},
     "output_type": "execute_result",
     "execution_count": 52
    }
   ],
   "source": [
    "consolidated_df"
   ],
   "metadata": {
    "collapsed": false,
    "pycharm": {
     "name": "#%%\n",
     "is_executing": false
    }
   }
  },
  {
   "cell_type": "markdown",
   "source": [
    "Then we will describe our new consolidated dataset"
   ],
   "metadata": {
    "collapsed": false
   }
  },
  {
   "cell_type": "code",
   "source": [
    "print(consolidated_df.describe())"
   ],
   "metadata": {
    "collapsed": false,
    "pycharm": {
     "name": "#%%\n",
     "is_executing": false
    }
   },
   "execution_count": 53,
   "outputs": [
    {
     "name": "stdout",
     "text": [
      "       Start Latitude  Start Longitude  Distance (m)  Time Taken (s)  \\\ncount       10.000000        10.000000     10.000000       10.000000   \nmean        53.272207        -9.058584   1710.190000      306.500000   \nstd          0.005694         0.005529   2690.212979      516.195968   \nmin         53.265610        -9.065958    132.700000       14.000000   \n25%         53.268289        -9.062105    383.375000       61.000000   \n50%         53.270815        -9.058353    432.550000       72.000000   \n75%         53.274890        -9.055994    924.100000      144.000000   \nmax         53.282325        -9.047064   8127.200000     1543.000000   \n\n       Speed (m/s)  Rain that Hour (mm)  Wind that Hour (km/hr)  \\\ncount    10.000000            10.000000                10.00000   \nmean      7.085787             0.220000                14.80000   \nstd       2.522806             0.695701                 6.89283   \nmin       4.785714             0.000000                 7.00000   \n25%       5.291278             0.000000                10.25000   \n50%       6.005156             0.000000                12.50000   \n75%       8.787338             0.000000                17.75000   \nmax      11.722222             2.200000                30.00000   \n\n       Temperature that Hour (C)  Average Rainfall (mm/hr)  \\\ncount                  10.000000                  10.00000   \nmean                   15.100000                   1.13500   \nstd                    13.763478                   0.82418   \nmin                    -8.000000                   0.37000   \n25%                     8.000000                   0.38000   \n50%                    15.000000                   0.92500   \n75%                    25.000000                   1.99500   \nmax                    34.000000                   2.20000   \n\n       Average Temperature (C)  \ncount                10.000000  \nmean                  9.510000  \nstd                  11.909422  \nmin                  -3.100000  \n25%                  -2.825000  \n50%                  10.400000  \n75%                  21.000000  \nmax                  22.600000  \n"
     ],
     "output_type": "stream"
    }
   ]
  },
  {
   "cell_type": "markdown",
   "source": [
    "Plots of each weather feature on the day the fastest time was set on each segment. Included on the secondary y-axis is the\n",
    "climate for that area on that day over the previous 12 years for the weather features that have that data available."
   ],
   "metadata": {
    "collapsed": false
   }
  },
  {
   "cell_type": "code",
   "execution_count": 54,
   "outputs": [
    {
     "data": {
      "text/plain": "<matplotlib.legend.Legend at 0x119d7d70>"
     },
     "metadata": {},
     "output_type": "execute_result",
     "execution_count": 54
    },
    {
     "data": {
      "text/plain": "<Figure size 432x288 with 1 Axes>",
      "image/png": "[encoded data removed]"
     },
     "metadata": {
      "needs_background": "light"
     },
     "output_type": "display_data"
    },
    {
     "data": {
      "text/plain": "<Figure size 432x288 with 1 Axes>",
      "image/png": "[encoded data removed]"
     },
     "metadata": {
      "needs_background": "light"
     },
     "output_type": "display_data"
    },
    {
     "data": {
      "text/plain": "<Figure size 432x288 with 1 Axes>",
      "image/png": "[encoded data removed]"
     },
     "metadata": {
      "needs_background": "light"
     },
     "output_type": "display_data"
    }
   ],
   "source": [
    "plt.figure()\n",
    "plt.title(\"Rainfall vs Average Rainfall for an Hour Where a Strava Segment Best Time was Set\")\n",
    "plt.xlabel(\"Segment Number\")\n",
    "consolidated_df['Rain that Hour (mm)'].plot(kind='bar', color='y', label='df1')\n",
    "consolidated_df['Average Rainfall (mm/hr)'].plot(style='.', color='b', label='df2').legend(['Average Rainfall (mm/hr)', 'Rain that Hour (mm)'])\n",
    "\n",
    "plt.figure()\n",
    "plt.title(\"Temperature vs Average Temperature for an Hour Where a Strava Segment Best Time was Set\")\n",
    "plt.xlabel(\"Segment Number\")\n",
    "consolidated_df['Temperature that Hour (C)'].plot(kind='bar', x='Segment Name', color='y')\n",
    "consolidated_df['Average Temperature (C)'].plot(style='.', color='b').legend(['Average Temperature (C)', 'Temperature that Hour (C)'])\n",
    "\n",
    "plt.figure()\n",
    "plt.title(\"WindSpeed for an Hour Where a Strava Segment Best Time was Set\")\n",
    "plt.xlabel(\"Segment Number\")\n",
    "consolidated_df['Wind that Hour (km/hr)'].plot(kind='bar', x='Segment Name', color='y').legend(['Wind that Hour (km/hr)'])"
   ],
   "metadata": {
    "collapsed": false,
    "pycharm": {
     "name": "#%%\n",
     "is_executing": false
    }
   }
  },
  {
   "cell_type": "markdown",
   "source": [
    "Plots of each weather feature on the day vs the average speed during that segment run"
   ],
   "metadata": {
    "collapsed": false,
    "pycharm": {
     "name": "#%% md\n",
     "is_executing": false
    }
   }
  },
  {
   "cell_type": "code",
   "execution_count": 55,
   "outputs": [
    {
     "data": {
      "text/plain": "<matplotlib.legend.Legend at 0x1de9790>"
     },
     "metadata": {},
     "output_type": "execute_result",
     "execution_count": 55
    },
    {
     "data": {
      "text/plain": "<Figure size 432x288 with 1 Axes>",
      "image/png": "[encoded data removed]"
     },
     "metadata": {
      "needs_background": "light"
     },
     "output_type": "display_data"
    },
    {
     "data": {
      "text/plain": "<Figure size 432x288 with 1 Axes>",
      "image/png": "[encoded data removed]"
     },
     "metadata": {
      "needs_background": "light"
     },
     "output_type": "display_data"
    },
    {
     "data": {
      "text/plain": "<Figure size 432x288 with 1 Axes>",
      "image/png": "[encoded data removed]"
     },
     "metadata": {
      "needs_background": "light"
     },
     "output_type": "display_data"
    }
   ],
   "source": [
    "plt.figure()\n",
    "plt.xlabel(\"Segment Number\")\n",
    "plt.title(\"Rainfall vs Average Speed for an Hour Where a Strava Segment Best Time was Set\")\n",
    "consolidated_df['Rain that Hour (mm)'].plot(kind='bar', x='Segment Name', color='y')\n",
    "consolidated_df['Speed (m/s)'].plot(style='.', color='b').legend(['Speed (m/s)','Rain that Hour (mm)'])\n",
    "\n",
    "plt.figure()\n",
    "plt.title(\"Temperature vs Average Speed for an Hour Where a Strava Segment Best Time was Set\")\n",
    "plt.xlabel(\"Segment Number\")\n",
    "consolidated_df['Temperature that Hour (C)'].plot(kind='bar', x='Segment Name', color='y', legend=True)\n",
    "consolidated_df['Speed (m/s)'].plot(style='.', color='b').legend(['Speed (m/s)','Temperature that Hour (C)'])\n",
    "\n",
    "plt.figure()\n",
    "plt.title(\"WindSpeed vs Average Speed for an Hour Where a Strava Segment Best Time was Set\")\n",
    "plt.xlabel(\"Segment Number\")\n",
    "consolidated_df['Wind that Hour (km/hr)'].plot(kind='bar', x='Segment Name', color='y', legend=True)\n",
    "consolidated_df['Speed (m/s)'].plot(style='.', color='b').legend(['Speed (m/s)','Wind that Hour (km/hr)'])"
   ],
   "metadata": {
    "collapsed": false,
    "pycharm": {
     "name": "#%% \n",
     "is_executing": false
    }
   }
  },
  {
   "cell_type": "markdown",
   "source": [
    "Finally I had planned on plotting the average heart rate of the athlete as a function of the weather to see if there was\n",
    "any significant relationship here. According to the API, [the SegmentLeaderboardEntry has an attribute 'average_hr'.](https://pythonhosted.org/stravalib/api.html?highlight=get_segment_leaderboard#stravalib.model.SegmentLeaderboardEntry)\n",
    "This is not the case in object returned from the API today. It appears others using the API have had [similar problems.](https://groups.google.com/forum/#!topic/strava-api/SsL2ytxtZng)"
   ],
   "metadata": {
    "collapsed": false,
    "pycharm": {
     "name": "#%% md\n"
    }
   }
  },
  {
   "cell_type": "markdown",
   "source": [
    "# Conclusions\n",
    "Rain looks to play a significant role in the setting of a fastest segment time as on nine of the ten days where a fastest\n",
    "time was set there was no rain during that hour. The one outlier is interesting as not only did it rain that hour, it rained\n",
    "at a rate that was above average for that hour.\n",
    "\n",
    "The temperature at which a fastest time is set has a difference of 42 degrees (min of -8 and max of 34). By looking at this data\n",
    "and the graph plotting the speed vs the average temperature for the hour, you can see that the temperature fluctuates wildly while\n",
    "the average speed stays the same. This leads to the conclusion that temperature is the least significant weather factor in\n",
    "setting a fastest Strava segment time.\n",
    "\n",
    "Low wind seams to have an impact with a min of 7km/hr and a max of 30km/hr. According to the [Beaufort scale](https://en.wind-turbine-models.com/winds)\n",
    "these wind rates range from a 'Light breeze' to a 'Fresh breeze'. This conclusion needed some domain specific knowledge\n",
    "on wind speeds as from the graph it looks like there is little to no relationship here.\n",
    "\n",
    "__NOTE:__ The data gathered here is from Galway City and its surrounding areas."
   ],
   "metadata": {
    "collapsed": false,
    "pycharm": {
     "name": "#%% md\n"
    }
   }
  }
 ],
 "metadata": {
  "kernelspec": {
   "display_name": "Python 3",
   "language": "python",
   "name": "python3"
  },
  "language_info": {
   "codemirror_mode": {
    "name": "ipython",
    "version": 3
   },
   "file_extension": ".py",
   "mimetype": "text/x-python",
   "name": "python",
   "nbconvert_exporter": "python",
   "pygments_lexer": "ipython3",
   "version": "3.7.4"
  },
  "pycharm": {
   "stem_cell": {
    "cell_type": "raw",
    "source": [],
    "metadata": {
     "collapsed": false
    }
   }
  }
 },
 "nbformat": 4,
 "nbformat_minor": 2
}
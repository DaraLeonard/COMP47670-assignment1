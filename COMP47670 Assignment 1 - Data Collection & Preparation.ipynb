{
 "cells": [
  {
   "cell_type": "markdown",
   "metadata": {},
   "source": [
    "##### Student Name: Dara Leonard\n",
    "##### Student ID: 19202478"
   ]
  },
  {
   "cell_type": "markdown",
   "metadata": {
    "pycharm": {
     "is_executing": false,
     "name": "#%% md\n"
    }
   },
   "source": [
    "#### Task 1: Identify one or more suitable web APIs\n",
    "\n",
    "Two web APIs have been identified to investigate if the weather in a certain location has an impact on the top time in a segment on Strava.\n",
    "\n",
    "The Strava API is openly available and allows for requests to be made for public data and data specific to an individual athlete. The access token is refreshed daily.\n",
    "\n",
    "The World Weather Online offers an API for historic weather that can be queried with latitude and longitude. This API is no longer freely available but there is a free 60 day trial upon signing up."
   ]
  },
  {
   "cell_type": "code",
   "execution_count": 100,
   "outputs": [],
   "source": [
    "import pandas as pd\n",
    "import requests\n",
    "import json\n",
    "from stravalib import Client\n",
    "\n",
    "strava_client = Client(access_token=\"804334a3f703b8e6a78321e68ba45bb0ccd9d0c7\")\n",
    "weather_api_key = \"4a88876129264886896114557202902\"\n",
    "\n",
    "def build_past_weather_request(location, year, month, day):\n",
    "    return \"http://api.worldweatheronline.com/premium/v1/past-weather.ashx?key=\" + weather_api_key + \"&q=\"+ location +\"&format=json&date=\"+ str(year) + \"-\" + str(month) + \"-\" + str(day)\n",
    "\n",
    "def build_average_weather_request(location):\n",
    "    return \"http://api.worldweatheronline.com/premium/v1/weather.ashx?key=\" + weather_api_key + \"&q=\"+ location + \"&format=json&mca=yes\""
   ],
   "metadata": {
    "collapsed": false,
    "pycharm": {
     "name": "#%%\n",
     "is_executing": false
    }
   }
  },
  {
   "cell_type": "markdown",
   "source": [
    "#### Task 2: Collect data your chosen API(s)"
   ],
   "metadata": {
    "collapsed": false,
    "pycharm": {
     "name": "#%% md\n"
    }
   }
  },
  {
   "cell_type": "code",
   "execution_count": 101,
   "outputs": [],
   "source": [
    "json_weather_data = []\n",
    "historical_average_weather_data = []\n",
    "sw_lat = 53.263329\n",
    "sw_lng = -9.070642\n",
    "ne_lat = 53.283310\n",
    "ne_lng = -9.044810\n",
    "\n",
    "def execute_strava_requests():\n",
    "    segments_in_an_area = strava_client.explore_segments(bounds=[sw_lat, sw_lng, ne_lat, ne_lng], activity_type='running') # Get current athlete details\n",
    "    return [strava_client.get_segment(segment.id) for segment in segments_in_an_area]\n",
    " \n",
    "def execute_weather_request(link):\n",
    "    response = requests.get(link)\n",
    "    json_res = response.json()['data']['weather']\n",
    "    json_weather_data.append(json_res)\n",
    "\n",
    "def execute_historical_average_climate_request(link):\n",
    "    response = requests.get(link)\n",
    "    json_res = response.json()['data'][\"ClimateAverages\"]\n",
    "    historical_average_weather_data.append(json_res)\n",
    "\n",
    "def execute_api_requests(segment_info):\n",
    "    segment_info_columns = [\"id\", \"name\", \"activity_type\", \"distance\", \"start_latitude\", \"start_longitude\", \"end_latitude\",\n",
    "           \"end_longitude\", \"city\", \"state\", \"country\", \"hazardous\", \"map_id\", \"map_polyline\", \"effort_count\",\n",
    "           \"athlete_count\", \"star_count\", \"best_time\", \"best_time_date\"]\n",
    "    segment_info_df = pd.DataFrame(columns=segment_info_columns)\n",
    "    for i, segment in enumerate(segment_info):\n",
    "        segment_leader_board = strava_client.get_segment_leaderboard(segment.id)\n",
    "        best_time = segment_leader_board.entries[0].elapsed_time\n",
    "        best_time_date = segment_leader_board.entries[0].start_date\n",
    "        tmp = dict({\"id\": segment.id,\n",
    "             \"name\": segment.name,\n",
    "             \"activity_type\": segment.activity_type,\n",
    "             \"distance\": segment.distance,\n",
    "             \"start_latitude\": segment.start_latitude,\n",
    "             \"start_longitude\": segment.start_longitude,\n",
    "             \"end_latitude\": segment.end_latitude,\n",
    "             \"end_longitude\": segment.end_longitude,\n",
    "             \"city\": segment.city,\n",
    "             \"state\": segment.state,\n",
    "             \"country\": segment.country,\n",
    "             \"hazardous\": segment.hazardous,\n",
    "             \"map_id\": segment.map.id,\n",
    "             \"map_polyline\": segment.map.polyline,\n",
    "             \"effort_count\": segment.effort_count,\n",
    "             \"athlete_count\": segment.athlete_count,\n",
    "             \"star_count\": segment.star_count,\n",
    "             \"best_time\" : segment_leader_board.entries[0].elapsed_time, \n",
    "             \"best_time_date\" : segment_leader_board.entries[0].start_date})\n",
    "        segment_info_df.loc[i] = tmp\n",
    "        \n",
    "        try:\n",
    "            execute_weather_request(build_past_weather_request(str(segment.start_latitude + segment.start_longitude), best_time_date.year, best_time_date.month, best_time_date.day))\n",
    "        except KeyError:\n",
    "            execute_weather_request(build_past_weather_request(str(sw_lat + sw_lng), best_time_date.year, best_time_date.month, best_time_date.day))\n",
    "        \n",
    "        try:\n",
    "            execute_historical_average_climate_request(build_average_weather_request(str(segment.start_latitude + segment.start_longitude)))\n",
    "        except KeyError:\n",
    "            execute_historical_average_climate_request(build_average_weather_request(str(sw_lat + sw_lng)))\n",
    "    return segment_info_df\n",
    "\n",
    "segment_info_final = execute_strava_requests()\n",
    "segment_info_df_final = execute_api_requests(segment_info_final)"
   ],
   "metadata": {
    "collapsed": false,
    "pycharm": {
     "name": "#%%\n",
     "is_executing": false
    }
   }
  },
  {
   "cell_type": "markdown",
   "source": [
    "#### Task 3: Parse the collected data, and store it in an appropriate file format"
   ],
   "metadata": {
    "collapsed": false
   }
  },
  {
   "cell_type": "code",
   "execution_count": 102,
   "outputs": [],
   "source": [
    "def write_data_to_file(filename, data_to_write):\n",
    "    with open(filename, 'w', encoding='utf-8') as file:\n",
    "        json.dump(data_to_write, file, ensure_ascii=False, indent=4)\n",
    "\n",
    "write_data_to_file('strava-data.json', segment_info_df_final.to_json())\n",
    "write_data_to_file('weather-data.json', json_weather_data)\n",
    "write_data_to_file('average-weather-data.json', historical_average_weather_data)"
   ],
   "metadata": {
    "collapsed": false,
    "pycharm": {
     "name": "#%%\n",
     "is_executing": false
    }
   }
  },
  {
   "cell_type": "markdown",
   "source": [
    "#### Task 4: Load and represent the data using an appropriate data structure. Apply any pre-processing steps to clean/filter/combine the data"
   ],
   "metadata": {
    "collapsed": false
   }
  },
  {
   "cell_type": "code",
   "execution_count": 103,
   "outputs": [
    {
     "name": "stdout",
     "text": [
      "Done\n"
     ],
     "output_type": "stream"
    }
   ],
   "source": [
    "print(\"Done\")\n"
   ],
   "metadata": {
    "collapsed": false,
    "pycharm": {
     "name": "#%%\n",
     "is_executing": false
    }
   }
  },
  {
   "cell_type": "markdown",
   "source": [
    "\n"
   ],
   "metadata": {
    "collapsed": false
   }
  }
 ],
 "metadata": {
  "kernelspec": {
   "display_name": "Python 3",
   "language": "python",
   "name": "python3"
  },
  "language_info": {
   "codemirror_mode": {
    "name": "ipython",
    "version": 3
   },
   "file_extension": ".py",
   "mimetype": "text/x-python",
   "name": "python",
   "nbconvert_exporter": "python",
   "pygments_lexer": "ipython3",
   "version": "3.7.4"
  },
  "pycharm": {
   "stem_cell": {
    "cell_type": "raw",
    "source": [],
    "metadata": {
     "collapsed": false
    }
   }
  }
 },
 "nbformat": 4,
 "nbformat_minor": 2
}
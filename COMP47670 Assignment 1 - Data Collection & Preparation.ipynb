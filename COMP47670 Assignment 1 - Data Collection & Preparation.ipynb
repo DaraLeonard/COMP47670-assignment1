{
 "cells": [
  {
   "cell_type": "markdown",
   "metadata": {},
   "source": [
    "##### Student Name: Dara Leonard\n",
    "##### Student ID: 19202478"
   ]
  },
  {
   "cell_type": "code",
   "execution_count": 1,
   "metadata": {
    "pycharm": {
     "is_executing": false
    }
   },
   "outputs": [
    {
     "data": {
      "text/plain": "  segment_id                                       segment_name   distance  \\\n0   11322011            Father Griffin Road - The Galway Bridge   132.70 m   \n1    7902096  Streets of Galway 8k (Galway City Harriers - g...  8127.20 m   \n2    4878158               Quincentennial Bridge (West to East)   975.30 m   \n3   13791609                               Canals heading south   770.50 m   \n4    7669871               Boardwalk to Boardwalk by the Corrib   362.90 m   \n5   16828259                         Resolution run - new route  5095.50 m   \n6    7572351                                              River   380.40 m   \n7   13791543                              St  Mary's Rd reverse   422.00 m   \n8   11759850                                       St Mary's Rd   443.10 m   \n9   19739543                          Nimmo's Pier Fort to Gate   392.30 m   \n\n  best_time      best_time_date       location effort_count  \n0  00:00:14 2018-08-25 18:14:13         Galway        10351  \n1  00:25:43 2019-08-10 19:00:04         Galway          872  \n2  00:01:33 2019-12-04 20:18:05         Galway         2210  \n3  00:02:41 2018-09-11 07:20:36  County Galway         1979  \n4  00:01:04 2015-11-05 21:11:12         Galway         2214  \n5  00:15:50 2019-01-01 10:59:58  County Galway          116  \n6  00:01:00 2020-01-26 11:33:03         Galway         3388  \n7  00:00:36 2017-08-13 13:22:31  County Galway         1932  \n8  00:01:06 2015-07-09 17:34:05         Galway         3212  \n9  00:01:18 2019-01-23 20:36:56  County Galway         2004  ",
      "text/html": "<div>\n<style scoped>\n    .dataframe tbody tr th:only-of-type {\n        vertical-align: middle;\n    }\n\n    .dataframe tbody tr th {\n        vertical-align: top;\n    }\n\n    .dataframe thead th {\n        text-align: right;\n    }\n</style>\n<table border=\"1\" class=\"dataframe\">\n  <thead>\n    <tr style=\"text-align: right;\">\n      <th></th>\n      <th>segment_id</th>\n      <th>segment_name</th>\n      <th>distance</th>\n      <th>best_time</th>\n      <th>best_time_date</th>\n      <th>location</th>\n      <th>effort_count</th>\n    </tr>\n  </thead>\n  <tbody>\n    <tr>\n      <th>0</th>\n      <td>11322011</td>\n      <td>Father Griffin Road - The Galway Bridge</td>\n      <td>132.70 m</td>\n      <td>00:00:14</td>\n      <td>2018-08-25 18:14:13</td>\n      <td>Galway</td>\n      <td>10351</td>\n    </tr>\n    <tr>\n      <th>1</th>\n      <td>7902096</td>\n      <td>Streets of Galway 8k (Galway City Harriers - g...</td>\n      <td>8127.20 m</td>\n      <td>00:25:43</td>\n      <td>2019-08-10 19:00:04</td>\n      <td>Galway</td>\n      <td>872</td>\n    </tr>\n    <tr>\n      <th>2</th>\n      <td>4878158</td>\n      <td>Quincentennial Bridge (West to East)</td>\n      <td>975.30 m</td>\n      <td>00:01:33</td>\n      <td>2019-12-04 20:18:05</td>\n      <td>Galway</td>\n      <td>2210</td>\n    </tr>\n    <tr>\n      <th>3</th>\n      <td>13791609</td>\n      <td>Canals heading south</td>\n      <td>770.50 m</td>\n      <td>00:02:41</td>\n      <td>2018-09-11 07:20:36</td>\n      <td>County Galway</td>\n      <td>1979</td>\n    </tr>\n    <tr>\n      <th>4</th>\n      <td>7669871</td>\n      <td>Boardwalk to Boardwalk by the Corrib</td>\n      <td>362.90 m</td>\n      <td>00:01:04</td>\n      <td>2015-11-05 21:11:12</td>\n      <td>Galway</td>\n      <td>2214</td>\n    </tr>\n    <tr>\n      <th>5</th>\n      <td>16828259</td>\n      <td>Resolution run - new route</td>\n      <td>5095.50 m</td>\n      <td>00:15:50</td>\n      <td>2019-01-01 10:59:58</td>\n      <td>County Galway</td>\n      <td>116</td>\n    </tr>\n    <tr>\n      <th>6</th>\n      <td>7572351</td>\n      <td>River</td>\n      <td>380.40 m</td>\n      <td>00:01:00</td>\n      <td>2020-01-26 11:33:03</td>\n      <td>Galway</td>\n      <td>3388</td>\n    </tr>\n    <tr>\n      <th>7</th>\n      <td>13791543</td>\n      <td>St  Mary's Rd reverse</td>\n      <td>422.00 m</td>\n      <td>00:00:36</td>\n      <td>2017-08-13 13:22:31</td>\n      <td>County Galway</td>\n      <td>1932</td>\n    </tr>\n    <tr>\n      <th>8</th>\n      <td>11759850</td>\n      <td>St Mary's Rd</td>\n      <td>443.10 m</td>\n      <td>00:01:06</td>\n      <td>2015-07-09 17:34:05</td>\n      <td>Galway</td>\n      <td>3212</td>\n    </tr>\n    <tr>\n      <th>9</th>\n      <td>19739543</td>\n      <td>Nimmo's Pier Fort to Gate</td>\n      <td>392.30 m</td>\n      <td>00:01:18</td>\n      <td>2019-01-23 20:36:56</td>\n      <td>County Galway</td>\n      <td>2004</td>\n    </tr>\n  </tbody>\n</table>\n</div>"
     },
     "metadata": {},
     "output_type": "execute_result",
     "execution_count": 1
    }
   ],
   "source": [
    "import pandas as pd\n",
    "from stravalib import Client\n",
    "\n",
    "client = Client(access_token=\"0cb46f974672a7c89927b9d7e81d236ed9ef8863\")\n",
    "\n",
    "res = client.explore_segments(bounds=[53.263329, -9.070642, 53.283310, -9.044810], activity_type='running') # Get current athlete details\n",
    "seg_info = [client.get_segment(seg.id) for seg in res]\n",
    "\n",
    "columns = [\"segment_id\", \"segment_name\", \"distance\", \"best_time\", \"best_time_date\", \"location\", \"effort_count\"]\n",
    "df = pd.DataFrame(columns=columns)\n",
    "for i, seg in enumerate(seg_info):\n",
    "    segment_leaderboard = client.get_segment_leaderboard(seg.id)\n",
    "    tmp = dict({\"segment_id\": seg.id,\n",
    "             \"segment_name\": seg.name,\n",
    "             \"distance\": seg.distance,\n",
    "             \"best_time\" : segment_leaderboard.entries[0].elapsed_time,\n",
    "             \"best_time_date\" : segment_leaderboard.entries[0].start_date_local,\n",
    "             \"location\": seg.state,\n",
    "             \"effort_count\": seg.effort_count})\n",
    "    df.loc[i] = tmp\n",
    "    \n",
    "df"
   ]
  },
  {
   "cell_type": "code",
   "execution_count": 1,
   "metadata": {
    "pycharm": {
     "is_executing": false
    }
   },
   "outputs": [],
   "source": []
  }
 ],
 "metadata": {
  "kernelspec": {
   "display_name": "Python 3",
   "language": "python",
   "name": "python3"
  },
  "language_info": {
   "codemirror_mode": {
    "name": "ipython",
    "version": 3
   },
   "file_extension": ".py",
   "mimetype": "text/x-python",
   "name": "python",
   "nbconvert_exporter": "python",
   "pygments_lexer": "ipython3",
   "version": "3.7.4"
  }
 },
 "nbformat": 4,
 "nbformat_minor": 2
}
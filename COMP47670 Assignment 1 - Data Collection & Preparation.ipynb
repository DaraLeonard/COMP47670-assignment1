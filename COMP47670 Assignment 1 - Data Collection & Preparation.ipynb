{
 "cells": [
  {
   "cell_type": "markdown",
   "metadata": {},
   "source": [
    "##### Student Name: Dara Leonard\n",
    "##### Student ID: 19202478"
   ]
  },
  {
   "cell_type": "code",
   "metadata": {
    "pycharm": {
     "is_executing": false,
     "name": "#%%\n"
    }
   },
   "source": [
    "import matplotlib.pyplot as plt\n",
    "import pandas as pd\n",
    "import requests\n",
    "from stravalib import Client"
   ],
   "execution_count": 298,
   "outputs": []
  },
  {
   "cell_type": "markdown",
   "source": [
    "#### Task 1: Identify one or more suitable web APIs\n",
    "\n",
    "Two web APIs have been identified to investigate if the weather in a certain location has an impact on the top time in a\n",
    "segment on Strava.\n",
    "\n",
    "Any area can be scanned for segments by entering the latitude and longitude (South-West and North-East\n",
    "corners) of said area. Due to a limitation of the Strava API, a limit of 10 segments in an area can be returned. The\n",
    "Strava API is openly available and allows for requests to be made for public data and data specific to an individual\n",
    "athlete. The access token is refreshed daily.\n",
    "\n",
    "The World Weather Online offers an API for historic weather that can be queried with latitude and longitude. it also offers\n",
    "an API that provided the climate for an area based on the previous seven years of weather. These APIs are not freely\n",
    "available but there is a free 60 day trial upon signing up."
   ],
   "metadata": {
    "collapsed": false
   }
  },
  {
   "cell_type": "code",
   "execution_count": 299,
   "outputs": [],
   "source": [
    "strava_client = Client(access_token='5e2214c3f9f5172d7ff7499e9afb62f064437964')\n",
    "#Personal mail\n",
    "#weather_api_key = '4a88876129264886896114557202902'\n",
    "#UCD mail\n",
    "weather_api_key = '279a976e90e54180934134029202203'\n",
    "\n",
    "def build_past_weather_request(location, year, month, day):\n",
    "    return 'http://api.worldweatheronline.com/premium/v1/past-weather.ashx?key=' + weather_api_key + '&q='+ location +'&format=json&date='+ str(year) + '-' + str(month) + '-' + str(day)\n",
    "\n",
    "def build_average_weather_request(location):\n",
    "    return 'http://api.worldweatheronline.com/premium/v1/weather.ashx?key=' + weather_api_key + '&q='+ location + '&format=json&mca=yes'"
   ],
   "metadata": {
    "collapsed": false,
    "pycharm": {
     "name": "#%%\n",
     "is_executing": false
    }
   }
  },
  {
   "cell_type": "markdown",
   "source": [
    "#### Task 2: Collect data your chosen API(s)\n",
    "The following four functions execute calls the the three identified APIs. At the end of this function, there are three\n",
    "Pandas DataFrames that contain all of the data collected from the three API calls.\n",
    "\n",
    "###### segment_info_df_final\n",
    "This DataFrame contains all of the Strava segment data retrieved for the API. \n",
    "\n",
    "###### weather_data_df_final\n",
    "This DataFrame contains data on the weather in the area of a segment on the day that the best segment time was set.\n",
    "\n",
    "###### climate_data_df_final\n",
    "This DataFrame contains data on the climate of the area specified. "
   ],
   "metadata": {
    "collapsed": false,
    "pycharm": {
     "name": "#%% md\n"
    }
   }
  },
  {
   "cell_type": "code",
   "execution_count": 300,
   "outputs": [],
   "source": [
    "sw_lat = 53.263329\n",
    "sw_lng = -9.070642\n",
    "ne_lat = 53.283310\n",
    "ne_lng = -9.044810\n",
    "\n",
    "def execute_strava_requests():\n",
    "    segments_in_an_area = strava_client.explore_segments(bounds=[sw_lat, sw_lng, ne_lat, ne_lng], activity_type='running') # Get current athlete details\n",
    "    return [strava_client.get_segment(segment.id) for segment in segments_in_an_area]\n",
    " \n",
    "def execute_weather_request(link):\n",
    "    response = requests.get(link)\n",
    "    json_res = response.json()['data']['weather']\n",
    "    return json_res\n",
    "\n",
    "def execute_historical_average_climate_request(link):\n",
    "    response = requests.get(link)\n",
    "    json_res = response.json()['data']['ClimateAverages']\n",
    "    return json_res\n",
    "\n",
    "def execute_api_requests(segment_info):\n",
    "    weather_data_columns = ['date', 'astronomy', 'maxtempC','maxtempF','mintempC','mintempF','avgtempC', 'avgtempF', 'totalSnow_cm', 'sunHour', 'uvIndex', 'hourly']\n",
    "    weather_data_df = pd.DataFrame(columns=weather_data_columns)\n",
    "    \n",
    "    average_weather_data_columns = ['start_latitude', 'start_longitude', 'month']\n",
    "    average_weather_data_df = pd.DataFrame(columns=average_weather_data_columns)\n",
    "    \n",
    "    segment_info_columns = ['id', 'name', 'activity_type', 'distance', 'start_latitude', 'start_longitude', 'end_latitude',\n",
    "           'end_longitude', 'city', 'state', 'country', 'hazardous', 'map_id', 'map_polyline', 'effort_count',\n",
    "           'athlete_count', 'star_count', 'best_time', 'best_time_date']\n",
    "    segment_info_df = pd.DataFrame(columns=segment_info_columns)\n",
    "    for i, segment in enumerate(segment_info):\n",
    "        segment_leader_board = strava_client.get_segment_leaderboard(segment.id)\n",
    "        best_time = segment_leader_board.entries[0].elapsed_time\n",
    "        best_time_date = segment_leader_board.entries[0].start_date\n",
    "        strava_tmp = dict({'id': segment.id,\n",
    "             'name': segment.name,\n",
    "             'activity_type': segment.activity_type,\n",
    "             'distance': segment.distance,\n",
    "             'start_latitude': segment.start_latitude,\n",
    "             'start_longitude': segment.start_longitude,\n",
    "             'end_latitude': segment.end_latitude,\n",
    "             'end_longitude': segment.end_longitude,\n",
    "             'city': segment.city,\n",
    "             'state': segment.state,\n",
    "             'country': segment.country,\n",
    "             'hazardous': segment.hazardous,\n",
    "             'map_id': segment.map.id,\n",
    "             'map_polyline': segment.map.polyline,\n",
    "             'effort_count': segment.effort_count,\n",
    "             'athlete_count': segment.athlete_count,\n",
    "             'star_count': segment.star_count,\n",
    "             'best_time' : best_time, \n",
    "             'best_time_date' : best_time_date})\n",
    "        segment_info_df.loc[i] = strava_tmp\n",
    "\n",
    "\n",
    "        try:\n",
    "            weather_data = execute_weather_request(build_past_weather_request(str(segment.start_latitude + segment.start_longitude), best_time_date.year, best_time_date.month, best_time_date.day))\n",
    "        except KeyError:\n",
    "            weather_data = execute_weather_request(build_past_weather_request(str(sw_lat + sw_lng), best_time_date.year, best_time_date.month, best_time_date.day))\n",
    "        weather_tmp = dict({'date' : weather_data[0].get('date'),\n",
    "                    'astronomy' : weather_data[0].get('astronomy'),\n",
    "                    'maxtempC': weather_data[0].get('maxtempC'),\n",
    "                    'maxtempF': weather_data[0].get('maxtempF'),\n",
    "                    'mintempC': weather_data[0].get('mintempC'),\n",
    "                    'mintempF': weather_data[0].get('mintempF'),\n",
    "                    'avgtempC': weather_data[0].get('avgtempC'),\n",
    "                    'avgtempF': weather_data[0].get('avgtempF'),\n",
    "                    'totalSnow_cm': weather_data[0].get('totalSnow_cm'), \n",
    "                    'sunHour': weather_data[0].get('sunHour'), \n",
    "                    'uvIndex': weather_data[0].get('uvIndex'), \n",
    "                    'hourly': weather_data[0].get('hourly')})\n",
    "        weather_data_df.loc[i] = weather_tmp\n",
    "        \n",
    "        try:\n",
    "            average_weather_data = execute_historical_average_climate_request(build_average_weather_request(str(segment.start_latitude + segment.start_longitude)))\n",
    "        except KeyError:\n",
    "            average_weather_data = execute_historical_average_climate_request(build_average_weather_request(str(sw_lat + sw_lng)))\n",
    "\n",
    "        average_weather_tmp = dict({\n",
    "            'start_latitude' : segment.start_latitude,\n",
    "            'start_longitude' : segment.start_longitude,\n",
    "            'month' : average_weather_data\n",
    "        })\n",
    "        average_weather_data_df.loc[i] = average_weather_tmp\n",
    "\n",
    "    return segment_info_df, weather_data_df, average_weather_data_df\n",
    "\n",
    "\n",
    "segment_info_final = execute_strava_requests()\n",
    "segment_info_df_final, weather_data_df_final, climate_data_df_final = execute_api_requests(segment_info_final)"
   ],
   "metadata": {
    "collapsed": false,
    "pycharm": {
     "name": "#%%\n",
     "is_executing": false
    }
   }
  },
  {
   "cell_type": "markdown",
   "source": [
    "#### Task 3: Parse the collected data, and store it in an appropriate file format\n",
    "The following code dumps each of the DataFrames to a JSON file. The data is reasonably structured before it is dumped to\n",
    "a JSON file, but still needs to be cleaned the useful data still needs to be extracted."
   ],
   "metadata": {
    "collapsed": false
   }
  },
  {
   "cell_type": "code",
   "execution_count": 301,
   "outputs": [],
   "source": [
    "segment_info_df_final.to_json('strava-data.json', orient='records')\n",
    "weather_data_df_final.to_json('weather-data.json', orient='records')\n",
    "climate_data_df_final.to_json('average-weather-data.json', orient='records')"
   ],
   "metadata": {
    "collapsed": false,
    "pycharm": {
     "name": "#%%\n",
     "is_executing": false
    }
   }
  },
  {
   "cell_type": "markdown",
   "source": [
    "#### Task 4: Load and represent the data using an appropriate data structure. Apply any pre-processing steps to clean/filter/combine the data\n",
    "Data is read from the JSON files into DataFrames\n",
    "\n",
    "\n",
    "- Clean data (simplified_data.dtypes.value_counts(), simplified_data.isnull().sum())\n",
    "- Combine data  - dataframe for average weather data\n",
    "                - dataframe with one line per segment, incl temp, wind and rain (both average and on that day)\n",
    "- Plot km/hr v temp, wind and rain (x- axis segments, primary y - km/hr, secondary y - weather). See what one has the biggest affect"
   ],
   "metadata": {
    "collapsed": false
   }
  },
  {
   "cell_type": "code",
   "execution_count": 302,
   "outputs": [],
   "source": [
    "strava_data = pd.read_json('strava-data.json', orient='records')\n",
    "weather_data = pd.read_json('weather-data.json', orient='records')\n",
    "average_weather_data = pd.read_json('average-weather-data.json', orient='records')"
   ],
   "metadata": {
    "collapsed": false,
    "pycharm": {
     "name": "#%%\n",
     "is_executing": false
    }
   }
  },
  {
   "cell_type": "markdown",
   "source": [
    "Data necessary to carry out analysis is identified and extracted. The next three functions carryout data manipulation\n",
    "to extract all the data identified to perform anaysis.\n",
    "\n",
    "A new Dataframe (consolidated_df) is then constructed with the identified data from each of the three DataFrames."
   ],
   "metadata": {
    "collapsed": false
   }
  },
  {
   "cell_type": "code",
   "execution_count": 303,
   "outputs": [
    {
     "data": {
      "text/plain": "                                        Segment Name                 City  \\\n0            Father Griffin Road - The Galway Bridge               Galway   \n1  Streets of Galway 8k (Galway City Harriers - g...  Co. Galway, Ireland   \n2               Boardwalk to Boardwalk by the Corrib  Co. Galway, Ireland   \n3                               Canals heading south               Galway   \n4               Quincentennial Bridge (West to East)               Galway   \n5                         Resolution run - new route               Galway   \n6                                              River               Galway   \n7                                       St Mary's Rd               Galway   \n8                          Nimmo's Pier Fort to Gate               Galway   \n9                              St  Mary's Rd reverse               Galway   \n\n   Start Latitude  Start Longitude  Distance (m)  Time Taken (s)  Speed (m/s)  \\\n0       53.269709        -9.056491         132.7            14.0     9.478571   \n1       53.268068        -9.058526        8127.2          1543.0     5.267142   \n2       53.271921        -9.055829         362.9            64.0     5.670312   \n3       53.275784        -9.060566         770.5           161.0     4.785714   \n4       53.282325        -9.065295         975.3            93.0    10.487097   \n5       53.265610        -9.055314        5095.5           950.0     5.363684   \n6       53.280613        -9.058181         380.4            60.0     6.340000   \n7       53.272209        -9.062618         443.1            66.0     6.713636   \n8       53.266879        -9.047064         392.3            78.0     5.029487   \n9       53.268953        -9.065958         422.0            36.0    11.722222   \n\n         Date Finish Time (Time of Day)  Rain that Hour (mm)  \\\n0  2018-08-25                  17:14:13                  0.0   \n1  2019-08-10                  18:00:04                  0.0   \n2  2015-11-05                  21:11:12                  0.0   \n3  2018-09-11                  06:20:36                  0.0   \n4  2019-12-04                  20:18:05                  0.0   \n5  2019-01-01                  10:59:58                  0.0   \n6  2020-01-26                  11:33:03                  0.0   \n7  2015-07-09                  16:34:05                  2.2   \n8  2019-01-23                  20:36:56                  0.0   \n9  2017-08-13                  12:22:31                  0.0   \n\n   Wind that Hour (km/hr)  Temperature that Hour (C)  \\\n0                    17.0                       32.0   \n1                    18.0                       34.0   \n2                    30.0                       14.0   \n3                    13.0                       16.0   \n4                     7.0                        8.0   \n5                    21.0                       -8.0   \n6                    10.0                        8.0   \n7                     9.0                       22.0   \n8                    11.0                       -1.0   \n9                    12.0                       26.0   \n\n   Average Rainfall (mm/hr)  Average Temperature (C)  \n0                      2.20                     21.0  \n1                      2.20                     21.0  \n2                      0.55                      3.4  \n3                      1.38                     17.4  \n4                      0.41                     -2.0  \n5                      0.37                     -3.1  \n6                      0.37                     -3.1  \n7                      1.30                     22.6  \n8                      0.37                     -3.1  \n9                      2.20                     21.0  ",
      "text/html": "<div>\n<style scoped>\n    .dataframe tbody tr th:only-of-type {\n        vertical-align: middle;\n    }\n\n    .dataframe tbody tr th {\n        vertical-align: top;\n    }\n\n    .dataframe thead th {\n        text-align: right;\n    }\n</style>\n<table border=\"1\" class=\"dataframe\">\n  <thead>\n    <tr style=\"text-align: right;\">\n      <th></th>\n      <th>Segment Name</th>\n      <th>City</th>\n      <th>Start Latitude</th>\n      <th>Start Longitude</th>\n      <th>Distance (m)</th>\n      <th>Time Taken (s)</th>\n      <th>Speed (m/s)</th>\n      <th>Date</th>\n      <th>Finish Time (Time of Day)</th>\n      <th>Rain that Hour (mm)</th>\n      <th>Wind that Hour (km/hr)</th>\n      <th>Temperature that Hour (C)</th>\n      <th>Average Rainfall (mm/hr)</th>\n      <th>Average Temperature (C)</th>\n    </tr>\n  </thead>\n  <tbody>\n    <tr>\n      <th>0</th>\n      <td>Father Griffin Road - The Galway Bridge</td>\n      <td>Galway</td>\n      <td>53.269709</td>\n      <td>-9.056491</td>\n      <td>132.7</td>\n      <td>14.0</td>\n      <td>9.478571</td>\n      <td>2018-08-25</td>\n      <td>17:14:13</td>\n      <td>0.0</td>\n      <td>17.0</td>\n      <td>32.0</td>\n      <td>2.20</td>\n      <td>21.0</td>\n    </tr>\n    <tr>\n      <th>1</th>\n      <td>Streets of Galway 8k (Galway City Harriers - g...</td>\n      <td>Co. Galway, Ireland</td>\n      <td>53.268068</td>\n      <td>-9.058526</td>\n      <td>8127.2</td>\n      <td>1543.0</td>\n      <td>5.267142</td>\n      <td>2019-08-10</td>\n      <td>18:00:04</td>\n      <td>0.0</td>\n      <td>18.0</td>\n      <td>34.0</td>\n      <td>2.20</td>\n      <td>21.0</td>\n    </tr>\n    <tr>\n      <th>2</th>\n      <td>Boardwalk to Boardwalk by the Corrib</td>\n      <td>Co. Galway, Ireland</td>\n      <td>53.271921</td>\n      <td>-9.055829</td>\n      <td>362.9</td>\n      <td>64.0</td>\n      <td>5.670312</td>\n      <td>2015-11-05</td>\n      <td>21:11:12</td>\n      <td>0.0</td>\n      <td>30.0</td>\n      <td>14.0</td>\n      <td>0.55</td>\n      <td>3.4</td>\n    </tr>\n    <tr>\n      <th>3</th>\n      <td>Canals heading south</td>\n      <td>Galway</td>\n      <td>53.275784</td>\n      <td>-9.060566</td>\n      <td>770.5</td>\n      <td>161.0</td>\n      <td>4.785714</td>\n      <td>2018-09-11</td>\n      <td>06:20:36</td>\n      <td>0.0</td>\n      <td>13.0</td>\n      <td>16.0</td>\n      <td>1.38</td>\n      <td>17.4</td>\n    </tr>\n    <tr>\n      <th>4</th>\n      <td>Quincentennial Bridge (West to East)</td>\n      <td>Galway</td>\n      <td>53.282325</td>\n      <td>-9.065295</td>\n      <td>975.3</td>\n      <td>93.0</td>\n      <td>10.487097</td>\n      <td>2019-12-04</td>\n      <td>20:18:05</td>\n      <td>0.0</td>\n      <td>7.0</td>\n      <td>8.0</td>\n      <td>0.41</td>\n      <td>-2.0</td>\n    </tr>\n    <tr>\n      <th>5</th>\n      <td>Resolution run - new route</td>\n      <td>Galway</td>\n      <td>53.265610</td>\n      <td>-9.055314</td>\n      <td>5095.5</td>\n      <td>950.0</td>\n      <td>5.363684</td>\n      <td>2019-01-01</td>\n      <td>10:59:58</td>\n      <td>0.0</td>\n      <td>21.0</td>\n      <td>-8.0</td>\n      <td>0.37</td>\n      <td>-3.1</td>\n    </tr>\n    <tr>\n      <th>6</th>\n      <td>River</td>\n      <td>Galway</td>\n      <td>53.280613</td>\n      <td>-9.058181</td>\n      <td>380.4</td>\n      <td>60.0</td>\n      <td>6.340000</td>\n      <td>2020-01-26</td>\n      <td>11:33:03</td>\n      <td>0.0</td>\n      <td>10.0</td>\n      <td>8.0</td>\n      <td>0.37</td>\n      <td>-3.1</td>\n    </tr>\n    <tr>\n      <th>7</th>\n      <td>St Mary's Rd</td>\n      <td>Galway</td>\n      <td>53.272209</td>\n      <td>-9.062618</td>\n      <td>443.1</td>\n      <td>66.0</td>\n      <td>6.713636</td>\n      <td>2015-07-09</td>\n      <td>16:34:05</td>\n      <td>2.2</td>\n      <td>9.0</td>\n      <td>22.0</td>\n      <td>1.30</td>\n      <td>22.6</td>\n    </tr>\n    <tr>\n      <th>8</th>\n      <td>Nimmo's Pier Fort to Gate</td>\n      <td>Galway</td>\n      <td>53.266879</td>\n      <td>-9.047064</td>\n      <td>392.3</td>\n      <td>78.0</td>\n      <td>5.029487</td>\n      <td>2019-01-23</td>\n      <td>20:36:56</td>\n      <td>0.0</td>\n      <td>11.0</td>\n      <td>-1.0</td>\n      <td>0.37</td>\n      <td>-3.1</td>\n    </tr>\n    <tr>\n      <th>9</th>\n      <td>St  Mary's Rd reverse</td>\n      <td>Galway</td>\n      <td>53.268953</td>\n      <td>-9.065958</td>\n      <td>422.0</td>\n      <td>36.0</td>\n      <td>11.722222</td>\n      <td>2017-08-13</td>\n      <td>12:22:31</td>\n      <td>0.0</td>\n      <td>12.0</td>\n      <td>26.0</td>\n      <td>2.20</td>\n      <td>21.0</td>\n    </tr>\n  </tbody>\n</table>\n</div>"
     },
     "metadata": {},
     "output_type": "execute_result",
     "execution_count": 303
    }
   ],
   "source": [
    "def get_temp_wind_and_rain(pos, rounded_time_value):\n",
    "    for hour in weather_data['hourly'][pos]:\n",
    "        if str(hour.get('time')) == str(rounded_time_value):\n",
    "            return hour.get('tempC'), hour.get('windspeedKmph'), hour.get('precipMM')\n",
    "\n",
    "def round_to_nearest_300(x, base=300):\n",
    "    return base * round(x/base)\n",
    "\n",
    "def get_month_int(pos):\n",
    "    return int(str(pd.to_datetime(strava_data['best_time_date'][pos], unit='ms').date()).split('-')[1])\n",
    "\n",
    "def get_average_precipitation_and_average_min_temp(pos):\n",
    "    for month in average_weather_data['month'][0]:\n",
    "        return month.get('month')[pos-1].get('avgMinTemp'), month.get('month')[pos-1].get('avgDailyRainfall')\n",
    "\n",
    "consolidated_data_columns = ['Segment Name', 'City', 'Start Latitude', 'Start Longitude', 'Distance (m)', 'Time Taken (s)', 'Speed (m/s)', 'Date', 'Finish Time (Time of Day)', 'Rain that Hour (mm)', 'Wind that Hour (km/hr)', 'Temperature that Hour (C)', 'Average Rainfall (mm/hr)', 'Average Temperature (C)']\n",
    "consolidated_df = pd.DataFrame(columns=consolidated_data_columns)\n",
    "\n",
    "for i in strava_data.index:\n",
    "    rounded_best_time_value = round_to_nearest_300(int(str(pd.to_datetime(strava_data['best_time_date'][i], unit='ms').time()).replace(':', '')[:-2]))\n",
    "    temp, wind_speed, precipitation = get_temp_wind_and_rain(i, rounded_best_time_value)\n",
    "    avrg_tmp, avrg_rain = get_average_precipitation_and_average_min_temp(get_month_int(i))\n",
    "\n",
    "    tmp_consolidated_data = dict({\n",
    "        'Segment Name' : strava_data['name'][i],\n",
    "        'City' : strava_data['city'][i],\n",
    "        'Start Latitude' : strava_data['start_latitude'][i],\n",
    "        'Start Longitude' : strava_data['start_longitude'][i],\n",
    "        'Distance (m)' : strava_data['distance'][i].get('num'),\n",
    "        'Time Taken (s)' : strava_data['best_time'][i]/1000,\n",
    "        'Speed (m/s)' : (strava_data['distance'][i].get('num'))/(strava_data['best_time'][i]/1000),\n",
    "        'Date' : pd.to_datetime(strava_data['best_time_date'][i], unit='ms').date(),\n",
    "        'Finish Time (Time of Day)' : pd.to_datetime(strava_data['best_time_date'][i], unit='ms').time(),\n",
    "        'Rain that Hour (mm)' : float(precipitation),\n",
    "        'Wind that Hour (km/hr)' : float(wind_speed),\n",
    "        'Temperature that Hour (C)' : float(temp),\n",
    "        'Average Rainfall (mm/hr)' : float(avrg_rain),\n",
    "        'Average Temperature (C)' : float(avrg_tmp)\n",
    "    })\n",
    "    consolidated_df.loc[i] = tmp_consolidated_data\n",
    "\n",
    "consolidated_df"
   ],
   "metadata": {
    "collapsed": false,
    "pycharm": {
     "name": "#%%\n",
     "is_executing": false
    }
   }
  },
  {
   "cell_type": "markdown",
   "source": [
    "Try and identify any missing data to see if we need to do any more data manipulation"
   ],
   "metadata": {
    "collapsed": false,
    "pycharm": {
     "name": "#%% md\n",
     "is_executing": false
    }
   }
  },
  {
   "cell_type": "code",
   "execution_count": 304,
   "outputs": [
    {
     "data": {
      "text/plain": "float64    10\nobject      4\ndtype: int64"
     },
     "metadata": {},
     "output_type": "execute_result",
     "execution_count": 304
    }
   ],
   "source": [
    "consolidated_df.isnull().sum()\n",
    "\n",
    "consolidated_df.dtypes.value_counts() "
   ],
   "metadata": {
    "collapsed": false,
    "pycharm": {
     "name": "#%% \n",
     "is_executing": false
    }
   }
  },
  {
   "cell_type": "markdown",
   "source": [
    "#### Task 5: Analyse and summarise the cleaned dataset\n",
    "\n",
    "\n",
    "Plots of each weather feature on the day the fastest time was set on each segment"
   ],
   "metadata": {
    "collapsed": false
   }
  },
  {
   "cell_type": "code",
   "execution_count": 305,
   "outputs": [
    {
     "data": {
      "text/plain": "<matplotlib.axes._subplots.AxesSubplot at 0x16708150>"
     },
     "metadata": {},
     "output_type": "execute_result",
     "execution_count": 305
    },
    {
     "data": {
      "text/plain": "<Figure size 432x288 with 1 Axes>",
      "image/png": "[encoded data removed]"
     },
     "metadata": {
      "needs_background": "light"
     },
     "output_type": "display_data"
    },
    {
     "data": {
      "text/plain": "<Figure size 432x288 with 1 Axes>",
      "image/png": "[encoded data removed]"
     },
     "metadata": {
      "needs_background": "light"
     },
     "output_type": "display_data"
    },
    {
     "data": {
      "text/plain": "<Figure size 432x288 with 1 Axes>",
      "image/png": "[encoded data removed]"
     },
     "metadata": {
      "needs_background": "light"
     },
     "output_type": "display_data"
    }
   ],
   "source": [
    "plt.figure()\n",
    "consolidated_df['Rain that Hour (mm)'].plot(kind='bar', x='Segment Name', color='y', label='df1')\n",
    "consolidated_df['Average Rainfall (mm/hr)'].plot(style='.', color='b', label='df2').legend(['Average Rainfall (mm/hr)', 'Rain that Hour (mm)'])\n",
    "\n",
    "plt.figure()\n",
    "consolidated_df['Temperature that Hour (C)'].plot(kind='bar', x='Segment Name', color='y')\n",
    "consolidated_df['Average Temperature (C)'].plot(style='.', color='b').legend(['Average Temperature (C)', 'Temperature that Hour (C)'])\n",
    "\n",
    "plt.figure()\n",
    "consolidated_df['Wind that Hour (km/hr)'].plot(kind='bar', x='Segment Name', color='y', legend=True)"
   ],
   "metadata": {
    "collapsed": false,
    "pycharm": {
     "name": "#%%\n",
     "is_executing": false
    }
   }
  },
  {
   "cell_type": "markdown",
   "source": [
    "Plots of each weather feature on the day vs the average speed during that segment run"
   ],
   "metadata": {
    "collapsed": false,
    "pycharm": {
     "name": "#%% md\n",
     "is_executing": false
    }
   }
  },
  {
   "cell_type": "code",
   "execution_count": 306,
   "outputs": [
    {
     "data": {
      "text/plain": "<matplotlib.legend.Legend at 0x13c56170>"
     },
     "metadata": {},
     "output_type": "execute_result",
     "execution_count": 306
    },
    {
     "data": {
      "text/plain": "<Figure size 432x288 with 1 Axes>",
      "image/png": "[encoded data removed]"
     },
     "metadata": {
      "needs_background": "light"
     },
     "output_type": "display_data"
    },
    {
     "data": {
      "text/plain": "<Figure size 432x288 with 1 Axes>",
      "image/png": "[encoded data removed]"
     },
     "metadata": {
      "needs_background": "light"
     },
     "output_type": "display_data"
    },
    {
     "data": {
      "text/plain": "<Figure size 432x288 with 1 Axes>",
      "image/png": "[encoded data removed]"
     },
     "metadata": {
      "needs_background": "light"
     },
     "output_type": "display_data"
    }
   ],
   "source": [
    "plt.figure()\n",
    "consolidated_df['Rain that Hour (mm)'].plot(kind='bar', x='Segment Name', color='y')\n",
    "consolidated_df['Speed (m/s)'].plot(style='.', color='b').legend(['Speed (m/s)','Rain that Hour (mm)'])\n",
    "\n",
    "plt.figure()\n",
    "consolidated_df['Temperature that Hour (C)'].plot(kind='bar', x='Segment Name', color='y', legend=True)\n",
    "consolidated_df['Speed (m/s)'].plot(style='.', color='b').legend(['Speed (m/s)','Temperature that Hour (C)'])\n",
    "\n",
    "plt.figure()\n",
    "consolidated_df['Wind that Hour (km/hr)'].plot(kind='bar', x='Segment Name', color='y', legend=True)\n",
    "consolidated_df['Speed (m/s)'].plot(style='.', color='b').legend(['Speed (m/s)','Wind that Hour (km/hr)'])"
   ],
   "metadata": {
    "collapsed": false,
    "pycharm": {
     "name": "#%% \n",
     "is_executing": false
    }
   }
  },
  {
   "cell_type": "markdown",
   "source": [
    "\n"
   ],
   "metadata": {
    "collapsed": false,
    "pycharm": {
     "name": "#%% md\n"
    }
   }
  },
  {
   "cell_type": "markdown",
   "source": [
    "HR data no longer available\n",
    "https://groups.google.com/forum/#!topic/strava-api/SsL2ytxtZng\n"
   ],
   "metadata": {
    "collapsed": false
   }
  },
  {
   "cell_type": "code",
   "execution_count": 307,
   "outputs": [
    {
     "name": "stdout",
     "text": [
      "Done\n"
     ],
     "output_type": "stream"
    }
   ],
   "source": [
    "print('Done')"
   ],
   "metadata": {
    "collapsed": false,
    "pycharm": {
     "name": "#%%\n",
     "is_executing": false
    }
   }
  }
 ],
 "metadata": {
  "kernelspec": {
   "display_name": "Python 3",
   "language": "python",
   "name": "python3"
  },
  "language_info": {
   "codemirror_mode": {
    "name": "ipython",
    "version": 3
   },
   "file_extension": ".py",
   "mimetype": "text/x-python",
   "name": "python",
   "nbconvert_exporter": "python",
   "pygments_lexer": "ipython3",
   "version": "3.7.4"
  },
  "pycharm": {
   "stem_cell": {
    "cell_type": "raw",
    "source": [],
    "metadata": {
     "collapsed": false
    }
   }
  }
 },
 "nbformat": 4,
 "nbformat_minor": 2
}